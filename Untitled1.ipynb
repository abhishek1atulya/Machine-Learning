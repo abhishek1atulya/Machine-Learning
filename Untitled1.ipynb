{
 "cells": [
  {
   "cell_type": "markdown",
   "id": "3f0d4b56-9c85-42f6-8115-41514c76c998",
   "metadata": {},
   "source": []
  },
  {
   "cell_type": "markdown",
   "id": "06222b3b-2272-4f40-8d14-088550dd5b30",
   "metadata": {},
   "source": []
  },
  {
   "cell_type": "code",
   "execution_count": null,
   "id": "7dc8994d-4406-483a-ac09-2d78399eefab",
   "metadata": {},
   "outputs": [],
   "source": []
  }
 ],
 "metadata": {
  "kernelspec": {
   "display_name": "Python 3 (ipykernel)",
   "language": "python",
   "name": "python3"
  },
  "language_info": {
   "codemirror_mode": {
    "name": "ipython",
    "version": 3
   },
   "file_extension": ".py",
   "mimetype": "text/x-python",
   "name": "python",
   "nbconvert_exporter": "python",
   "pygments_lexer": "ipython3",
   "version": "3.12.7"
  }
 },
 "nbformat": 4,
 "nbformat_minor": 5
}
