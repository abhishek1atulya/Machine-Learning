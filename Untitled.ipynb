{
 "cells": [
  {
   "cell_type": "code",
   "execution_count": 18,
   "id": "f3ee8be3-bd20-411f-a420-28b6479bf058",
   "metadata": {},
   "outputs": [
    {
     "name": "stdout",
     "output_type": "stream",
     "text": [
      "[['act', 'cat'], ['hat'], ['pots', 'tops', 'stop']]\n"
     ]
    }
   ],
   "source": [
    "strs = [\"act\",\"pots\",\"tops\",\"cat\",\"stop\",\"hat\"]\n",
    "l = set()\n",
    "\n",
    "for i in strs:\n",
    "\ts = list(i)\n",
    "\ts.sort()\n",
    "\ts = ''.join(s)\n",
    "\tl.add(s)\n",
    "\n",
    "l2=[]\n",
    "for i in l:\n",
    "    l3=[]\n",
    "    for j in strs:\n",
    "        s = list(j)\n",
    "        s.sort()\n",
    "        s = ''.join(s)\n",
    "        if i==s:\n",
    "            l3.append(j)\n",
    "    l2.append(l3)\n",
    "print(l2)\n",
    "\n"
   ]
  },
  {
   "cell_type": "code",
   "execution_count": 6,
   "id": "95aed89e-9942-48f1-a029-b868cdf8e6be",
   "metadata": {},
   "outputs": [
    {
     "name": "stdout",
     "output_type": "stream",
     "text": [
      "1\n",
      "2\n",
      "3\n"
     ]
    }
   ],
   "source": [
    "l= [1,1,2,2,3,3,1,2,3]\n",
    "\n",
    "d={}\n",
    "for i in set(l):\n",
    "\tc=0\n",
    "\tfor j in l:\n",
    "\t\tif i==j:\n",
    "\t\t\tc+=1\n",
    "\t\n",
    "\td[i]=c\t\n",
    "\n",
    "m = max(d.values())\n",
    "for k,v in d.items():\n",
    "    if v==m:\n",
    "        print(k)"
   ]
  },
  {
   "cell_type": "code",
   "execution_count": 7,
   "id": "8e4bc136-2097-4761-873a-a6d93721b9b8",
   "metadata": {},
   "outputs": [
    {
     "data": {
      "text/plain": [
       "3"
      ]
     },
     "execution_count": 7,
     "metadata": {},
     "output_type": "execute_result"
    }
   ],
   "source": [
    "l.count(1)"
   ]
  },
  {
   "cell_type": "code",
   "execution_count": 8,
   "id": "05e0920e-e385-476d-83e1-b7e40031da80",
   "metadata": {},
   "outputs": [
    {
     "data": {
      "text/plain": [
       "{1: 3, 2: 3, 3: 3}"
      ]
     },
     "execution_count": 8,
     "metadata": {},
     "output_type": "execute_result"
    }
   ],
   "source": [
    "d"
   ]
  },
  {
   "cell_type": "code",
   "execution_count": 11,
   "id": "f1684a90-b5fe-4ea3-8d8e-2fbe9976ffa9",
   "metadata": {},
   "outputs": [],
   "source": [
    "l=list(d.items())"
   ]
  },
  {
   "cell_type": "code",
   "execution_count": 13,
   "id": "878af98c-9a6e-4dab-8f8b-6fc016a46333",
   "metadata": {},
   "outputs": [
    {
     "data": {
      "text/plain": [
       "2"
      ]
     },
     "execution_count": 13,
     "metadata": {},
     "output_type": "execute_result"
    }
   ],
   "source": [
    "sorted(l,key=lambda a: a[1])[-2][0]"
   ]
  },
  {
   "cell_type": "code",
   "execution_count": null,
   "id": "75039830-66f1-47bc-a2b6-c04b8be4040c",
   "metadata": {},
   "outputs": [],
   "source": []
  }
 ],
 "metadata": {
  "kernelspec": {
   "display_name": "Python 3 (ipykernel)",
   "language": "python",
   "name": "python3"
  },
  "language_info": {
   "codemirror_mode": {
    "name": "ipython",
    "version": 3
   },
   "file_extension": ".py",
   "mimetype": "text/x-python",
   "name": "python",
   "nbconvert_exporter": "python",
   "pygments_lexer": "ipython3",
   "version": "3.12.7"
  }
 },
 "nbformat": 4,
 "nbformat_minor": 5
}
