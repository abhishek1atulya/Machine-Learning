{
 "cells": [
  {
   "cell_type": "code",
   "execution_count": 14,
   "metadata": {},
   "outputs": [],
   "source": [
    "import numpy as np\n",
    "import pandas as pd\n",
    "import scipy.stats as stats"
   ]
  },
  {
   "cell_type": "code",
   "execution_count": 15,
   "metadata": {
    "execution": {
     "iopub.execute_input": "2023-04-06T15:49:57.735881Z",
     "iopub.status.busy": "2023-04-06T15:49:57.735474Z",
     "iopub.status.idle": "2023-04-06T15:49:57.775532Z",
     "shell.execute_reply": "2023-04-06T15:49:57.774266Z",
     "shell.execute_reply.started": "2023-04-06T15:49:57.735847Z"
    },
    "scrolled": true
   },
   "outputs": [],
   "source": [
    "train = pd.read_csv('titanic_train.csv').drop(columns=['Survived'])\n",
    "test = pd.read_csv('titanic_test.csv')"
   ]
  },
  {
   "cell_type": "code",
   "execution_count": 16,
   "metadata": {
    "execution": {
     "iopub.execute_input": "2023-04-06T16:14:33.629087Z",
     "iopub.status.busy": "2023-04-06T16:14:33.628629Z",
     "iopub.status.idle": "2023-04-06T16:14:33.641248Z",
     "shell.execute_reply": "2023-04-06T16:14:33.640201Z",
     "shell.execute_reply.started": "2023-04-06T16:14:33.629019Z"
    }
   },
   "outputs": [],
   "source": [
    "final_df = pd.concat([train,test]).sample(1309)"
   ]
  },
  {
   "cell_type": "code",
   "execution_count": 17,
   "metadata": {
    "execution": {
     "iopub.execute_input": "2023-04-06T16:14:35.648373Z",
     "iopub.status.busy": "2023-04-06T16:14:35.647539Z",
     "iopub.status.idle": "2023-04-06T16:14:35.661169Z",
     "shell.execute_reply": "2023-04-06T16:14:35.659371Z",
     "shell.execute_reply.started": "2023-04-06T16:14:35.648324Z"
    }
   },
   "outputs": [],
   "source": [
    "pop_male = final_df[final_df['Sex'] == 'male']['Age'].dropna()\n",
    "pop_female = final_df[final_df['Sex'] == 'female']['Age'].dropna()"
   ]
  },
  {
   "cell_type": "code",
   "execution_count": 18,
   "metadata": {
    "execution": {
     "iopub.execute_input": "2023-04-06T16:14:52.371278Z",
     "iopub.status.busy": "2023-04-06T16:14:52.370797Z",
     "iopub.status.idle": "2023-04-06T16:14:52.382204Z",
     "shell.execute_reply": "2023-04-06T16:14:52.380882Z",
     "shell.execute_reply.started": "2023-04-06T16:14:52.371218Z"
    }
   },
   "outputs": [
    {
     "data": {
      "text/plain": [
       "376    22.0\n",
       "577    39.0\n",
       "56     21.0\n",
       "396    31.0\n",
       "458    50.0\n",
       "       ... \n",
       "52     49.0\n",
       "678    43.0\n",
       "541     9.0\n",
       "203     8.0\n",
       "14     14.0\n",
       "Name: Age, Length: 388, dtype: float64"
      ]
     },
     "execution_count": 18,
     "metadata": {},
     "output_type": "execute_result"
    }
   ],
   "source": [
    "pop_female"
   ]
  },
  {
   "cell_type": "code",
   "execution_count": 20,
   "metadata": {},
   "outputs": [
    {
     "data": {
      "text/plain": [
       "30.58522796352584"
      ]
     },
     "execution_count": 20,
     "metadata": {},
     "output_type": "execute_result"
    }
   ],
   "source": [
    "pop_male.mean()"
   ]
  },
  {
   "cell_type": "code",
   "execution_count": 21,
   "metadata": {},
   "outputs": [
    {
     "data": {
      "text/plain": [
       "28.68708762886598"
      ]
     },
     "execution_count": 21,
     "metadata": {},
     "output_type": "execute_result"
    }
   ],
   "source": [
    "pop_female.mean()"
   ]
  },
  {
   "cell_type": "code",
   "execution_count": 19,
   "metadata": {
    "execution": {
     "iopub.execute_input": "2023-04-06T12:55:04.997999Z",
     "iopub.status.busy": "2023-04-06T12:55:04.997595Z",
     "iopub.status.idle": "2023-04-06T12:55:05.004651Z",
     "shell.execute_reply": "2023-04-06T12:55:05.003433Z",
     "shell.execute_reply.started": "2023-04-06T12:55:04.997965Z"
    }
   },
   "outputs": [],
   "source": [
    "sample_male = pop_male.sample(25)\n",
    "sample_female = pop_female.sample(25)\n",
    "\n",
    "alpha = 0.05"
   ]
  },
  {
   "cell_type": "code",
   "execution_count": 7,
   "metadata": {
    "execution": {
     "iopub.execute_input": "2023-04-06T12:55:08.865629Z",
     "iopub.status.busy": "2023-04-06T12:55:08.865213Z",
     "iopub.status.idle": "2023-04-06T12:55:08.871018Z",
     "shell.execute_reply": "2023-04-06T12:55:08.869218Z",
     "shell.execute_reply.started": "2023-04-06T12:55:08.865590Z"
    }
   },
   "outputs": [],
   "source": [
    "# H0 - Mean age of male and female are similar\n",
    "# H1 - Mean age of male is higher than female"
   ]
  },
  {
   "cell_type": "code",
   "execution_count": 8,
   "metadata": {
    "execution": {
     "iopub.execute_input": "2023-04-06T16:17:47.797034Z",
     "iopub.status.busy": "2023-04-06T16:17:47.796592Z",
     "iopub.status.idle": "2023-04-06T16:17:47.805594Z",
     "shell.execute_reply": "2023-04-06T16:17:47.804355Z",
     "shell.execute_reply.started": "2023-04-06T16:17:47.796994Z"
    }
   },
   "outputs": [
    {
     "data": {
      "text/plain": [
       "30.58522796352584"
      ]
     },
     "execution_count": 8,
     "metadata": {},
     "output_type": "execute_result"
    }
   ],
   "source": [
    "pop_male.mean()"
   ]
  },
  {
   "cell_type": "code",
   "execution_count": 9,
   "metadata": {
    "execution": {
     "iopub.execute_input": "2023-04-06T16:17:57.290042Z",
     "iopub.status.busy": "2023-04-06T16:17:57.289587Z",
     "iopub.status.idle": "2023-04-06T16:17:57.297782Z",
     "shell.execute_reply": "2023-04-06T16:17:57.296760Z",
     "shell.execute_reply.started": "2023-04-06T16:17:57.290001Z"
    }
   },
   "outputs": [
    {
     "data": {
      "text/plain": [
       "28.68708762886598"
      ]
     },
     "execution_count": 9,
     "metadata": {},
     "output_type": "execute_result"
    }
   ],
   "source": [
    "pop_female.mean()"
   ]
  },
  {
   "cell_type": "code",
   "execution_count": 10,
   "metadata": {
    "execution": {
     "iopub.execute_input": "2023-04-06T12:56:36.642791Z",
     "iopub.status.busy": "2023-04-06T12:56:36.641993Z",
     "iopub.status.idle": "2023-04-06T12:56:36.914629Z",
     "shell.execute_reply": "2023-04-06T12:56:36.912078Z",
     "shell.execute_reply.started": "2023-04-06T12:56:36.642745Z"
    }
   },
   "outputs": [
    {
     "name": "stdout",
     "output_type": "stream",
     "text": [
      "Shapiro-Wilk test for desktop users: ShapiroResult(statistic=0.9585052132606506, pvalue=0.38550707697868347)\n",
      "Shapiro-Wilk test for mobile users: ShapiroResult(statistic=0.9762117266654968, pvalue=0.8013122081756592)\n"
     ]
    }
   ],
   "source": [
    "from scipy.stats import shapiro\n",
    "\n",
    "# Perform the Shapiro-Wilk test for both desktop and mobile users\n",
    "shapiro_male = shapiro(sample_male)\n",
    "shapiro_female = shapiro(sample_female)\n",
    "\n",
    "print(\"Shapiro-Wilk test for desktop users:\", shapiro_male)\n",
    "print(\"Shapiro-Wilk test for mobile users:\", shapiro_female)"
   ]
  },
  {
   "cell_type": "code",
   "execution_count": 11,
   "metadata": {
    "execution": {
     "iopub.execute_input": "2023-04-06T12:57:07.136792Z",
     "iopub.status.busy": "2023-04-06T12:57:07.136275Z",
     "iopub.status.idle": "2023-04-06T12:57:07.152134Z",
     "shell.execute_reply": "2023-04-06T12:57:07.150723Z",
     "shell.execute_reply.started": "2023-04-06T12:57:07.136750Z"
    }
   },
   "outputs": [
    {
     "name": "stdout",
     "output_type": "stream",
     "text": [
      "LeveneResult(statistic=0.7094683366908987, pvalue=0.4037977545549961)\n"
     ]
    }
   ],
   "source": [
    "from scipy.stats import levene\n",
    "\n",
    "# Perform Levene's test\n",
    "levene_test = levene(sample_male, sample_female)\n",
    "print(levene_test)"
   ]
  },
  {
   "cell_type": "code",
   "execution_count": 12,
   "metadata": {
    "execution": {
     "iopub.execute_input": "2023-04-06T13:04:27.509960Z",
     "iopub.status.busy": "2023-04-06T13:04:27.509491Z",
     "iopub.status.idle": "2023-04-06T13:04:27.519132Z",
     "shell.execute_reply": "2023-04-06T13:04:27.517326Z",
     "shell.execute_reply.started": "2023-04-06T13:04:27.509920Z"
    }
   },
   "outputs": [
    {
     "name": "stdout",
     "output_type": "stream",
     "text": [
      "t-statistic: 1.5833142795470236\n",
      "p-value: 0.059958599116668905\n"
     ]
    }
   ],
   "source": [
    "import scipy.stats as stats\n",
    "\n",
    "t_statistic, p_value = stats.ttest_ind(sample_male, sample_female)\n",
    "\n",
    "print(\"t-statistic:\", t_statistic)\n",
    "print(\"p-value:\", p_value/2)"
   ]
  },
  {
   "cell_type": "code",
   "execution_count": 13,
   "metadata": {
    "execution": {
     "iopub.execute_input": "2023-04-06T13:00:15.908621Z",
     "iopub.status.busy": "2023-04-06T13:00:15.906762Z",
     "iopub.status.idle": "2023-04-06T13:00:15.915892Z",
     "shell.execute_reply": "2023-04-06T13:00:15.914524Z",
     "shell.execute_reply.started": "2023-04-06T13:00:15.908561Z"
    }
   },
   "outputs": [
    {
     "name": "stdout",
     "output_type": "stream",
     "text": [
      "Fail to reject the null hypothesis.\n"
     ]
    }
   ],
   "source": [
    "alpha = 0.05\n",
    "\n",
    "if p_value < alpha:\n",
    "    print(\"Reject the null hypothesis.\")\n",
    "else:\n",
    "    print(\"Fail to reject the null hypothesis.\")"
   ]
  },
  {
   "cell_type": "code",
   "execution_count": null,
   "metadata": {},
   "outputs": [],
   "source": []
  },
  {
   "cell_type": "code",
   "execution_count": null,
   "metadata": {},
   "outputs": [],
   "source": []
  }
 ],
 "metadata": {
  "kernelspec": {
   "display_name": "Python 3 (ipykernel)",
   "language": "python",
   "name": "python3"
  },
  "language_info": {
   "codemirror_mode": {
    "name": "ipython",
    "version": 3
   },
   "file_extension": ".py",
   "mimetype": "text/x-python",
   "name": "python",
   "nbconvert_exporter": "python",
   "pygments_lexer": "ipython3",
   "version": "3.10.9"
  }
 },
 "nbformat": 4,
 "nbformat_minor": 4
}
