{
 "cells": [
  {
   "cell_type": "code",
   "execution_count": 11,
   "metadata": {},
   "outputs": [],
   "source": [
    "import numpy as np\n",
    "import pandas as pd\n",
    "import scipy.stats as stats"
   ]
  },
  {
   "cell_type": "code",
   "execution_count": 19,
   "metadata": {
    "execution": {
     "iopub.execute_input": "2023-04-06T15:49:57.735881Z",
     "iopub.status.busy": "2023-04-06T15:49:57.735474Z",
     "iopub.status.idle": "2023-04-06T15:49:57.775532Z",
     "shell.execute_reply": "2023-04-06T15:49:57.774266Z",
     "shell.execute_reply.started": "2023-04-06T15:49:57.735847Z"
    },
    "scrolled": true
   },
   "outputs": [],
   "source": [
    "train = pd.read_csv('titanic_train.csv').drop(columns=['Survived'])\n",
    "test = pd.read_csv('titanic_test.csv')"
   ]
  },
  {
   "cell_type": "code",
   "execution_count": 20,
   "metadata": {
    "execution": {
     "iopub.execute_input": "2023-04-06T15:49:58.530447Z",
     "iopub.status.busy": "2023-04-06T15:49:58.529778Z",
     "iopub.status.idle": "2023-04-06T15:49:58.551427Z",
     "shell.execute_reply": "2023-04-06T15:49:58.548981Z",
     "shell.execute_reply.started": "2023-04-06T15:49:58.530383Z"
    }
   },
   "outputs": [],
   "source": [
    "final_df = pd.concat([train,test]).sample(1309)"
   ]
  },
  {
   "cell_type": "code",
   "execution_count": 21,
   "metadata": {
    "execution": {
     "iopub.execute_input": "2023-04-06T15:49:59.532648Z",
     "iopub.status.busy": "2023-04-06T15:49:59.531404Z",
     "iopub.status.idle": "2023-04-06T15:49:59.540814Z",
     "shell.execute_reply": "2023-04-06T15:49:59.539491Z",
     "shell.execute_reply.started": "2023-04-06T15:49:59.532508Z"
    }
   },
   "outputs": [],
   "source": [
    "pop = final_df['Age'].dropna()"
   ]
  },
  {
   "cell_type": "code",
   "execution_count": 22,
   "metadata": {
    "execution": {
     "iopub.execute_input": "2023-04-06T15:50:11.379390Z",
     "iopub.status.busy": "2023-04-06T15:50:11.378984Z",
     "iopub.status.idle": "2023-04-06T15:50:11.388343Z",
     "shell.execute_reply": "2023-04-06T15:50:11.387006Z",
     "shell.execute_reply.started": "2023-04-06T15:50:11.379356Z"
    }
   },
   "outputs": [
    {
     "data": {
      "text/plain": [
       "29.881137667304014"
      ]
     },
     "execution_count": 22,
     "metadata": {},
     "output_type": "execute_result"
    }
   ],
   "source": [
    "pop.mean()"
   ]
  },
  {
   "cell_type": "code",
   "execution_count": 23,
   "metadata": {
    "execution": {
     "iopub.execute_input": "2023-04-06T12:42:18.427562Z",
     "iopub.status.busy": "2023-04-06T12:42:18.426948Z",
     "iopub.status.idle": "2023-04-06T12:42:18.434332Z",
     "shell.execute_reply": "2023-04-06T12:42:18.433004Z",
     "shell.execute_reply.started": "2023-04-06T12:42:18.427509Z"
    }
   },
   "outputs": [],
   "source": [
    "sample_age = pop.sample(25).values"
   ]
  },
  {
   "cell_type": "code",
   "execution_count": 24,
   "metadata": {
    "execution": {
     "iopub.execute_input": "2023-04-06T12:42:19.633958Z",
     "iopub.status.busy": "2023-04-06T12:42:19.632613Z",
     "iopub.status.idle": "2023-04-06T12:42:19.643336Z",
     "shell.execute_reply": "2023-04-06T12:42:19.641882Z",
     "shell.execute_reply.started": "2023-04-06T12:42:19.633896Z"
    }
   },
   "outputs": [
    {
     "data": {
      "text/plain": [
       "array([11.  , 26.5 , 24.  , 37.  , 24.  , 45.  ,  5.  ,  0.83, 26.  ,\n",
       "       42.  , 29.  , 44.  , 29.  , 40.  , 28.  , 27.  , 17.  , 25.  ,\n",
       "       26.  , 30.  , 55.  , 30.  , 28.  , 19.  , 23.  ])"
      ]
     },
     "execution_count": 24,
     "metadata": {},
     "output_type": "execute_result"
    }
   ],
   "source": [
    "sample_age"
   ]
  },
  {
   "cell_type": "code",
   "execution_count": 25,
   "metadata": {},
   "outputs": [
    {
     "data": {
      "text/plain": [
       "27.6532"
      ]
     },
     "execution_count": 25,
     "metadata": {},
     "output_type": "execute_result"
    }
   ],
   "source": [
    "sample_age.mean()"
   ]
  },
  {
   "cell_type": "code",
   "execution_count": 26,
   "metadata": {
    "execution": {
     "iopub.execute_input": "2023-04-06T12:42:20.582575Z",
     "iopub.status.busy": "2023-04-06T12:42:20.581896Z",
     "iopub.status.idle": "2023-04-06T12:42:20.587769Z",
     "shell.execute_reply": "2023-04-06T12:42:20.586024Z",
     "shell.execute_reply.started": "2023-04-06T12:42:20.582537Z"
    }
   },
   "outputs": [],
   "source": [
    "# H0 -> The mean age is 29.881137667304014\n",
    "# H1 -> The mean is less than 29.881137667304014"
   ]
  },
  {
   "cell_type": "code",
   "execution_count": 27,
   "metadata": {
    "execution": {
     "iopub.execute_input": "2023-04-06T12:42:22.855316Z",
     "iopub.status.busy": "2023-04-06T12:42:22.854867Z",
     "iopub.status.idle": "2023-04-06T12:42:22.862408Z",
     "shell.execute_reply": "2023-04-06T12:42:22.860817Z",
     "shell.execute_reply.started": "2023-04-06T12:42:22.855267Z"
    }
   },
   "outputs": [
    {
     "name": "stdout",
     "output_type": "stream",
     "text": [
      "ShapiroResult(statistic=0.9561231732368469, pvalue=0.3426820635795593)\n"
     ]
    }
   ],
   "source": [
    "# check for normality using Shapiro Wilk test\n",
    "from scipy.stats import shapiro\n",
    "\n",
    "shapiro_age = shapiro(sample_age)\n",
    "\n",
    "print(shapiro_age)"
   ]
  },
  {
   "cell_type": "code",
   "execution_count": 30,
   "metadata": {
    "execution": {
     "iopub.execute_input": "2023-04-06T12:42:28.744297Z",
     "iopub.status.busy": "2023-04-06T12:42:28.743878Z",
     "iopub.status.idle": "2023-04-06T12:42:28.749124Z",
     "shell.execute_reply": "2023-04-06T12:42:28.748101Z",
     "shell.execute_reply.started": "2023-04-06T12:42:28.744237Z"
    }
   },
   "outputs": [],
   "source": [
    "pop_mean = 29.881137667304014"
   ]
  },
  {
   "cell_type": "code",
   "execution_count": 31,
   "metadata": {
    "execution": {
     "iopub.execute_input": "2023-04-06T13:04:55.461138Z",
     "iopub.status.busy": "2023-04-06T13:04:55.460714Z",
     "iopub.status.idle": "2023-04-06T13:04:55.469500Z",
     "shell.execute_reply": "2023-04-06T13:04:55.467771Z",
     "shell.execute_reply.started": "2023-04-06T13:04:55.461102Z"
    }
   },
   "outputs": [
    {
     "name": "stdout",
     "output_type": "stream",
     "text": [
      "t-statistic: -0.9175576800202271\n",
      "p-value: 0.18398991174832463\n"
     ]
    }
   ],
   "source": [
    "import scipy.stats as stats\n",
    "\n",
    "t_statistic, p_value = stats.ttest_1samp(sample_age, pop_mean)\n",
    "\n",
    "print(\"t-statistic:\", t_statistic)\n",
    "print(\"p-value:\", p_value/2)"
   ]
  },
  {
   "cell_type": "code",
   "execution_count": null,
   "metadata": {},
   "outputs": [],
   "source": [
    "# 0.025 to 0.975(1-alpha/2)"
   ]
  },
  {
   "cell_type": "code",
   "execution_count": 32,
   "metadata": {
    "execution": {
     "iopub.execute_input": "2023-04-06T12:42:40.082916Z",
     "iopub.status.busy": "2023-04-06T12:42:40.082140Z",
     "iopub.status.idle": "2023-04-06T12:42:40.090895Z",
     "shell.execute_reply": "2023-04-06T12:42:40.089226Z",
     "shell.execute_reply.started": "2023-04-06T12:42:40.082858Z"
    }
   },
   "outputs": [
    {
     "name": "stdout",
     "output_type": "stream",
     "text": [
      "Fail to reject the null hypothesis.\n"
     ]
    }
   ],
   "source": [
    "alpha = 0.05\n",
    "\n",
    "if p_value < alpha:\n",
    "    print(\"Reject the null hypothesis.\")\n",
    "else:\n",
    "    print(\"Fail to reject the null hypothesis.\")\n"
   ]
  },
  {
   "cell_type": "code",
   "execution_count": 33,
   "metadata": {
    "execution": {
     "iopub.execute_input": "2023-04-06T15:49:49.959133Z",
     "iopub.status.busy": "2023-04-06T15:49:49.957881Z",
     "iopub.status.idle": "2023-04-06T15:49:50.056257Z",
     "shell.execute_reply": "2023-04-06T15:49:50.054143Z",
     "shell.execute_reply.started": "2023-04-06T15:49:49.959075Z"
    }
   },
   "outputs": [
    {
     "data": {
      "text/plain": [
       "322    26.00\n",
       "885    39.00\n",
       "723    50.00\n",
       "189    40.00\n",
       "194    44.00\n",
       "       ...  \n",
       "831     0.83\n",
       "130    33.00\n",
       "194     8.00\n",
       "161     7.00\n",
       "161    40.00\n",
       "Name: Age, Length: 1046, dtype: float64"
      ]
     },
     "execution_count": 33,
     "metadata": {},
     "output_type": "execute_result"
    }
   ],
   "source": [
    "pop"
   ]
  },
  {
   "cell_type": "code",
   "execution_count": null,
   "metadata": {},
   "outputs": [],
   "source": []
  },
  {
   "cell_type": "code",
   "execution_count": null,
   "metadata": {},
   "outputs": [],
   "source": []
  },
  {
   "cell_type": "code",
   "execution_count": null,
   "metadata": {},
   "outputs": [],
   "source": []
  }
 ],
 "metadata": {
  "kernelspec": {
   "display_name": "Python 3 (ipykernel)",
   "language": "python",
   "name": "python3"
  },
  "language_info": {
   "codemirror_mode": {
    "name": "ipython",
    "version": 3
   },
   "file_extension": ".py",
   "mimetype": "text/x-python",
   "name": "python",
   "nbconvert_exporter": "python",
   "pygments_lexer": "ipython3",
   "version": "3.10.9"
  }
 },
 "nbformat": 4,
 "nbformat_minor": 4
}
