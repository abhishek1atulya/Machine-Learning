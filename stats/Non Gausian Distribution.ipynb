{
 "cells": [
  {
   "cell_type": "markdown",
   "id": "0f691c56",
   "metadata": {},
   "source": [
    "Kurtosis is the 4th statistical moment. In probability theory and statistics, kurtosis \n",
    "(meaning \"curved, arching\") is a measure of the \"tailedness\" of the probability \n",
    "distribution of a real-valued random variable. Like skewness, kurtosis describes a \n",
    "particular aspect of a probability distribution."
   ]
  },
  {
   "cell_type": "markdown",
   "id": "341b2527",
   "metadata": {},
   "source": [
    "In finance, kurtosis risk refers to the risk associated with the possibility of extreme \n",
    "outcomes or \"fat tails\" in the distribution of returns of a particular asset or portfolio.\n",
    "If a distribution has high kurtosis, it means that there is a higher likelihood of \n",
    "extreme events occurring, either positive or negative, compared to a normal \n",
    "distribution.\n",
    "In finance, kurtosis risk is important to consider because it indicates that there is a \n",
    "greater probability of large losses or gains occurring, which can have significant \n",
    "implications for investors. As a result, investors may want to adjust their investment \n",
    "strategies to account for kurtosis risk.\n"
   ]
  },
  {
   "cell_type": "markdown",
   "id": "ff4abe45",
   "metadata": {},
   "source": [
    "Excess kurtosis is a measure of how much more peaked or flat a distribution is \n",
    "compared to a normal distribution, which is considered to have a kurtosis of 0. It is \n",
    "calculated by subtracting 3 from the sample kurtosis coefficient."
   ]
  },
  {
   "cell_type": "markdown",
   "id": "1de46456",
   "metadata": {},
   "source": [
    "Leptokurtic\n",
    "\n",
    "A distribution with positive excess kurtosis is called leptokurtic. \"Lepto-\" means \n",
    "\"slender\". In terms of shape, a leptokurtic distribution has fatter tails. This indicates \n",
    "that there are more extreme values or outliers in the distribution.\n",
    "Example - Assets with positive excess kurtosis are riskier and more volatile than those \n",
    "with a normal distribution, and they may experience sudden price movements that \n",
    "can result in significant gains or losses."
   ]
  },
  {
   "cell_type": "markdown",
   "id": "137afb45",
   "metadata": {},
   "source": [
    "Platykurtic\n",
    "\n",
    "A distribution with negative excess kurtosis is called platykurtic. \"Platy-\" means \n",
    "\"broad\". In terms of shape, a platykurtic distribution has thinner tails. This indicates \n",
    "that there are fewer extreme values or outliers in the distribution. \n",
    "Assets with negative excess kurtosis are less risky and less volatile than those with a \n",
    "normal distribution, and they may experience more gradual price movements that \n",
    "are less likely to result in large gains or losses."
   ]
  },
  {
   "cell_type": "markdown",
   "id": "8fd313ab",
   "metadata": {},
   "source": [
    "Mesokurtic\n",
    "\n",
    "\n",
    "Distributions with zero excess kurtosis are called mesokurtic. The most prominent \n",
    "example of a mesokurtic distribution is the normal distribution family, regardless of \n",
    "the values of its parameters.\n",
    "Mesokurtic is a term used to describe a distribution with a excess kurtosis of 0, \n",
    "indicating that it has the same degree of \"peakedness\" or \"flatness\" as a normal \n",
    "distribution.\n",
    "Example -\n",
    "In finance, a mesokurtic distribution is considered to be the ideal distribution for \n",
    "assets or portfolios, as it represents a balance between risk and return.\n"
   ]
  },
  {
   "cell_type": "markdown",
   "id": "7cf78a26",
   "metadata": {},
   "source": [
    "QQ Plot\n",
    "\n",
    "• How to find if a given distribution is normal or not?\n",
    "\n",
    "\n",
    "Visual inspection: One of the easiest ways to check for normality is to visually inspect \n",
    "a histogram or a density plot of the data. A normal distribution has a bell-shaped \n",
    "curve, which means that the majority of the data falls in the middle, and the tails \n",
    "taper off symmetrically. If the distribution looks approximately bell-shaped, it is likely \n",
    "to be normal.\n",
    "\n",
    "\n",
    "QQ Plot: Another way to check for normality is to create a normal probability plot \n",
    "(also known as a Q-Q plot) of the data. A normal probability plot plots the observed \n",
    "data against the expected values of a normal distribution. If the data points fall along \n",
    "a straight line, the distribution is likely to be normal.\n",
    "\n",
    "\n",
    "\n",
    "Statistical tests: There are several statistical tests that can be used to test for \n",
    "normality, such as the Shapiro-Wilk test, the Anderson-Darling test, and the \n",
    "Kolmogorov-Smirnov test. These tests compare the observed data to the expected \n",
    "values of a normal distribution and provide a p-value that indicates whether the data \n",
    "is likely to be normal or not. A p-value less than the significance level (usually 0.05) \n",
    "suggests that the data is not normal"
   ]
  },
  {
   "cell_type": "markdown",
   "id": "9b3154e4",
   "metadata": {},
   "source": [
    "A QQ plot (quantile-quantile plot) is a graphical tool used to assess the similarity of \n",
    "the distribution of two sets of data. It is particularly useful for determining whether a \n",
    "set of data follows a normal distribution."
   ]
  },
  {
   "cell_type": "markdown",
   "id": "5646b41c",
   "metadata": {},
   "source": [
    "In a QQ plot, the quantiles of the two sets of data are plotted against each other. The \n",
    "quantiles of one set of data are plotted on the x-axis, while the quantiles of the other \n",
    "set of data are plotted on the y-axis. If the two sets of data have the same \n",
    "distribution, the points on the QQ plot will fall on a straight line. If the two sets of \n",
    "data do not have the same distribution, the points will deviate from the straight line"
   ]
  },
  {
   "cell_type": "markdown",
   "id": "8f675410",
   "metadata": {},
   "source": [
    "Uniform Distribution\n",
    "\n",
    "In probability theory and statistics, a uniform distribution is a probability distribution \n",
    "where all outcomes are equally likely within a given range. This means that if you were to \n",
    "select a random value from this range, any value would be as likely as any other value."
   ]
  },
  {
   "cell_type": "markdown",
   "id": "75dcf17a",
   "metadata": {},
   "source": [
    "Examples\n",
    "\n",
    "The height of a person randomly selected from a group of individuals whose heights \n",
    "range from 5'6\" to 6'0\" would follow a continuous uniform distribution.\n",
    "\n",
    "\n",
    "The time it takes for a machine to produce a product, where the production time \n",
    "ranges from 5 to 10 minutes, would follow a continuous uniform distribution.\n",
    "\n",
    "\n",
    "The distance that a randomly selected car travels on a tank of gas, where the \n",
    "distance ranges from 300 to 400 miles, would follow a continuous uniform \n",
    "distribution.\n",
    "\n",
    "\n",
    "The weight of a randomly selected apple from a basket of apples that weighs \n",
    "between 100 and 200 grams, would follow a continuous uniform distribution.\n"
   ]
  },
  {
   "cell_type": "markdown",
   "id": "e50d2df8",
   "metadata": {},
   "source": [
    "Application in Machine learning and Data Science\n",
    "\n",
    "Random initialization: In many machine learning algorithms, such as neural networks \n",
    "and k-means clustering, the initial values of the parameters can have a significant \n",
    "impact on the final result. Uniform distribution is often used to randomly initialize \n",
    "the parameters, as it ensures that all values in the range have an equal probability of \n",
    "being selected\n",
    "\n",
    "\n",
    "Sampling: Uniform distribution can also be used for sampling. For example, if you \n",
    "have a dataset with an equal number of samples from each class, you can use \n",
    "uniform distribution to randomly select a subset of the data that is representative of \n",
    "all the classes.\n",
    "\n",
    "Data augmentation: In some cases, you may want to artificially increase the size of \n",
    "your dataset by generating new examples that are similar to the original data. \n",
    "Uniform distribution can be used to generate new data points that are within a \n",
    "specified range of the original data.\n",
    "\n",
    "Hyperparameter tuning: Uniform distribution can also be used in hyperparameter \n",
    "tuning, where you need to search for the best combination of hyperparameters for a \n",
    "machine learning model. By defining a uniform prior distribution for each \n",
    "hyperparameter, you can sample from the distribution to explore the \n",
    "hyperparameter space."
   ]
  },
  {
   "cell_type": "markdown",
   "id": "12ade11a",
   "metadata": {},
   "source": [
    "In probability theory and statistics, a lognormal distribution is a heavy tailed continuous \n",
    "probability distribution of a random variable whose logarithm is normally distributed.\n",
    "\n",
    "• The length of comments posted in Internet discussion forums follows a log-normal \n",
    "distribution.\n",
    "\n",
    "\n",
    "• Users' dwell time on online articles (jokes, news etc.) follows a log-normal distribution.\n",
    "\n",
    "• The length of chess games tends to follow a log-normal distribution.\n",
    "\n",
    "•In economics, there is evidence that the income of 97%–99% of the population is \n",
    "distributed log-normally.\n"
   ]
  },
  {
   "cell_type": "markdown",
   "id": "d4e85c7d",
   "metadata": {},
   "source": [
    "#### Transformation\n",
    "1. Function transformation\n",
    "2. Box Cox Transformation\n",
    "only apply when x>0\n",
    "\n",
    "x(i)={x(i)^lamda - 1}/lambda  - if lambda!=0 and here lambda varry from -5 to 5\n",
    "\n",
    "ln(x(i)) -if lambda = 0  \n",
    "\n",
    "3. Power Transformation\n",
    "\n",
    "[(x(i)+1)^lambda-1]/lambda - if lambda!=0 and x>=0 and here lambda varry from -5 to 5 \n",
    "\n",
    "ln(x(i)) - if lambda = 0 and x>=0\n",
    "\n",
    "-[{(-x(i) +1)^(2-lambda)}/(2-lambda)] if lambda!=2 and x<0 and here lambda varry from -5 to 5\n",
    "\n",
    "-ln(-x(i)+1) if lambda=2, x(i)<0"
   ]
  },
  {
   "cell_type": "code",
   "execution_count": null,
   "id": "c9692e0a",
   "metadata": {},
   "outputs": [],
   "source": []
  }
 ],
 "metadata": {
  "kernelspec": {
   "display_name": "Python 3 (ipykernel)",
   "language": "python",
   "name": "python3"
  },
  "language_info": {
   "codemirror_mode": {
    "name": "ipython",
    "version": 3
   },
   "file_extension": ".py",
   "mimetype": "text/x-python",
   "name": "python",
   "nbconvert_exporter": "python",
   "pygments_lexer": "ipython3",
   "version": "3.12.7"
  }
 },
 "nbformat": 4,
 "nbformat_minor": 5
}
