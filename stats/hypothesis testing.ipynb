{
 "cells": [
  {
   "cell_type": "markdown",
   "id": "be58aef9",
   "metadata": {},
   "source": [
    "## hypothesis testing"
   ]
  },
  {
   "cell_type": "markdown",
   "id": "5d622c71",
   "metadata": {},
   "source": [
    "A statistical hypothesis test is a method of statistical inference used to decide \n",
    "whether the data at hand sufficiently support a particular hypothesis. Hypothesis \n",
    "testing allows us to make probabilistic statements about population parameters."
   ]
  },
  {
   "cell_type": "markdown",
   "id": "bae9c8d3",
   "metadata": {},
   "source": [
    "#### Null hypothesis (H0)"
   ]
  },
  {
   "cell_type": "markdown",
   "id": "96dcf223",
   "metadata": {},
   "source": [
    "In simple terms, the null hypothesis is a statement that assumes there is no significant \n",
    "effect or relationship between the variables being studied. It serves as the starting point \n",
    "for hypothesis testing and represents the status quo or the assumption of no effect until \n",
    "proven otherwise. The purpose of hypothesis testing is to gather evidence (data) to either \n",
    "reject or fail to reject the null hypothesis in favour of the alternative hypothesis, which \n",
    "claims there is a significant effect or relationship.\n"
   ]
  },
  {
   "cell_type": "markdown",
   "id": "a7aeb128",
   "metadata": {},
   "source": [
    "#### Alternative hypothesis (H1 or Ha):"
   ]
  },
  {
   "cell_type": "markdown",
   "id": "0c123259",
   "metadata": {},
   "source": [
    "The alternative hypothesis, is a statement that contradicts the null hypothesis and claims \n",
    "there is a significant effect or relationship between the variables being studied. It \n",
    "represents the research hypothesis or the claim that the researcher wants to support \n",
    "through statistical analysis."
   ]
  },
  {
   "cell_type": "markdown",
   "id": "1feb59ba",
   "metadata": {},
   "source": [
    "Hypothesis tests are similar to jury trials, in a sense. In a jury trial, H0 is similar to the not-guilty verdict, \n",
    "and Ha is the guilty verdict. You assume in a jury trial that the defendant isn’t guilty unless the \n",
    "prosecution can show beyond a reasonable doubt that he or she is guilty. If the jury says the evidence is \n",
    "beyond a reasonable doubt, they reject H0, not guilty, in favour of Ha , guilty."
   ]
  },
  {
   "cell_type": "markdown",
   "id": "1ad4aa28",
   "metadata": {},
   "source": [
    "###### Steps involved in Hypothesis Testing"
   ]
  },
  {
   "cell_type": "markdown",
   "id": "e6ff9977",
   "metadata": {},
   "source": [
    "1. Formulate a Null and Alternate hypothesis\n",
    "Select a significance level(This is the probability of rejecting the null hypothesis when it is \n",
    "actually true, usually set at 0.05 or 0.01)\n",
    "2.\n",
    "3. Check assumptions (example distribution)\n",
    "4. Decide which test is appropriate(Z-test, T-test, Chi-square test, ANOVA)\n",
    "5. State the relevant test statistic\n",
    "6. Conduct the test\n",
    "7. Reject or not reject the Null Hypothesis.\n",
    "8. Interpret the result"
   ]
  },
  {
   "cell_type": "markdown",
   "id": "3636acfc",
   "metadata": {},
   "source": [
    "Suppose a company is evaluating the impact of a new training program on the productivity of \n",
    "its employees. The company has data on the average productivity of its employees before \n",
    "implementing the training program. The average productivity was 50 units per day with a \n",
    "known population standard deviation of 5 units. After implementing the training program, the \n",
    "company measures the productivity of a random sample of 30 employees. The sample has an \n",
    "average productivity of 53 units per day. The company wants to know if the new training \n",
    "program has significantly increased productivity."
   ]
  },
  {
   "cell_type": "code",
   "execution_count": 4,
   "id": "04791700",
   "metadata": {},
   "outputs": [
    {
     "data": {
      "text/plain": [
       "3.2863353450309964"
      ]
     },
     "execution_count": 4,
     "metadata": {},
     "output_type": "execute_result"
    }
   ],
   "source": [
    "(53-50)/(5/30**(1/2))"
   ]
  },
  {
   "cell_type": "code",
   "execution_count": 9,
   "id": "571f56eb",
   "metadata": {
    "scrolled": true
   },
   "outputs": [
    {
     "data": {
      "text/plain": [
       "1.6448536269514722"
      ]
     },
     "execution_count": 9,
     "metadata": {},
     "output_type": "execute_result"
    }
   ],
   "source": [
    "import scipy.stats as stats\n",
    "stats.norm.ppf(1-0.05)"
   ]
  },
  {
   "cell_type": "markdown",
   "id": "7c4e8901",
   "metadata": {},
   "source": [
    "Suppose a snack food company claims that their Lays wafer packets contain an \n",
    "average weight of 50 grams per packet. To verify this claim, a consumer watchdog \n",
    "organization decides to test a random sample of Lays wafer packets. The \n",
    "organization wants to determine whether the actual average weight differs \n",
    "significantly from the claimed 50 grams. The organization collects a random \n",
    "sample of 40 Lays wafer packets and measures their weights. They find that the \n",
    "sample has an average weight of 49 grams, with a known population standard \n",
    "deviation of 4 grams. "
   ]
  },
  {
   "cell_type": "code",
   "execution_count": 9,
   "id": "ba155c67",
   "metadata": {
    "scrolled": true
   },
   "outputs": [
    {
     "data": {
      "text/plain": [
       "-1.5811388300841895"
      ]
     },
     "execution_count": 9,
     "metadata": {},
     "output_type": "execute_result"
    }
   ],
   "source": [
    "-1/(4/(40**(1/2)))"
   ]
  },
  {
   "cell_type": "code",
   "execution_count": 12,
   "id": "c934f237",
   "metadata": {},
   "outputs": [],
   "source": [
    "import numpy as np"
   ]
  },
  {
   "cell_type": "code",
   "execution_count": 20,
   "id": "e334402c",
   "metadata": {},
   "outputs": [
    {
     "data": {
      "text/plain": [
       "-1.9599639845400545"
      ]
     },
     "execution_count": 20,
     "metadata": {},
     "output_type": "execute_result"
    }
   ],
   "source": [
    "import scipy.stats as stats\n",
    "alpha = 0.05\n",
    "# Calculate the critical value for the Z-score\n",
    "critical_value = stats.norm.ppf(alpha/2)\n",
    "critical_value\n",
    "# -1.96"
   ]
  },
  {
   "cell_type": "code",
   "execution_count": 15,
   "id": "f4cca35b",
   "metadata": {
    "scrolled": true
   },
   "outputs": [
    {
     "data": {
      "text/plain": [
       "51.239590064609125"
      ]
     },
     "execution_count": 15,
     "metadata": {},
     "output_type": "execute_result"
    }
   ],
   "source": [
    "upper=50+critical_value*4/np.sqrt(40)\n",
    "upper"
   ]
  },
  {
   "cell_type": "code",
   "execution_count": 16,
   "id": "08a3e04b",
   "metadata": {},
   "outputs": [
    {
     "data": {
      "text/plain": [
       "48.760409935390875"
      ]
     },
     "execution_count": 16,
     "metadata": {},
     "output_type": "execute_result"
    }
   ],
   "source": [
    "lower=50-critical_value*4/np.sqrt(40)\n",
    "lower"
   ]
  },
  {
   "cell_type": "code",
   "execution_count": 19,
   "id": "12b8d3bf",
   "metadata": {},
   "outputs": [
    {
     "data": {
      "text/plain": [
       "-1.5811388300841895"
      ]
     },
     "execution_count": 19,
     "metadata": {},
     "output_type": "execute_result"
    }
   ],
   "source": [
    "z=(49-50)/(4/np.sqrt(40))\n",
    "z"
   ]
  },
  {
   "cell_type": "code",
   "execution_count": null,
   "id": "9c5faf3a",
   "metadata": {},
   "outputs": [],
   "source": []
  },
  {
   "cell_type": "markdown",
   "id": "33b0e259",
   "metadata": {},
   "source": [
    "Significance level - denoted as α (alpha), is a predetermined threshold used in hypothesis \n",
    "testing to determine whether the null hypothesis should be rejected or not. It represents the \n",
    "probability of rejecting the null hypothesis when it is actually true, also known as Type 1 error.\n"
   ]
  },
  {
   "cell_type": "markdown",
   "id": "01abec6b",
   "metadata": {},
   "source": [
    "The critical region is the region of values that corresponds to the rejection of the null \n",
    "hypothesis at some chosen probability level"
   ]
  },
  {
   "cell_type": "markdown",
   "id": "481dee3c",
   "metadata": {},
   "source": [
    "Type 1 vs Type 2 Error"
   ]
  },
  {
   "cell_type": "markdown",
   "id": "7ab7c935",
   "metadata": {},
   "source": [
    "In hypothesis testing, there are two types of errors that can \n",
    "occur when making a decision about the null hypothesis: Type \n",
    "I error and Type II error"
   ]
  },
  {
   "cell_type": "markdown",
   "id": "3e96b524",
   "metadata": {},
   "source": [
    "Type-I (False Positive) error occurs when the sample results, \n",
    "lead to the rejection of the null hypothesis when it is in fact \n",
    "true.\n",
    "In other words, it's the mistake of finding a significant effect or \n",
    "relationship when there is none. The probability of committing \n",
    "a Type I error is denoted by α (alpha), which is also known as \n",
    "the significance level. By choosing a significance level, \n",
    "researchers can control the risk of making a Type I error.\n"
   ]
  },
  {
   "cell_type": "markdown",
   "id": "8ffc2d72",
   "metadata": {},
   "source": [
    "Type-II (False Negative) error occurs when based on the \n",
    "sample results, the null hypothesis is not rejected when it is in \n",
    "fact false.\n",
    "This means that the researcher fails to detect a significant \n",
    "effect or relationship when one actually exists. The probability \n",
    "of committing a Type II error is denoted by β (beta)."
   ]
  },
  {
   "cell_type": "markdown",
   "id": "cccc68bc",
   "metadata": {},
   "source": [
    "Trade-off between Type 1 and Type 2 errors"
   ]
  },
  {
   "cell_type": "markdown",
   "id": "8e50afe6",
   "metadata": {},
   "source": [
    "One sided vs two sided test"
   ]
  },
  {
   "cell_type": "markdown",
   "id": "a46a6c8d",
   "metadata": {},
   "source": [
    "One-sided (one-tailed) test: A one-sided test is used when the researcher is interested in \n",
    "testing the effect in a specific direction (either greater than or less than the value specified in \n",
    "the null hypothesis). The alternative hypothesis in a one-sided test contains an inequality \n",
    "(either \">\" or \"<\").\n",
    "Example: A researcher wants to test whether a new medication increases the average \n",
    "recovery rate compared to the existing medication."
   ]
  },
  {
   "cell_type": "markdown",
   "id": "a715a237",
   "metadata": {},
   "source": [
    "Two-sided (two-tailed) test:"
   ]
  },
  {
   "cell_type": "markdown",
   "id": "59a93990",
   "metadata": {},
   "source": [
    "Two-sided (two-tailed) test: A two-sided test is used when the researcher is interested in \n",
    "testing the effect in both directions (i.e., whether the value specified in the null hypothesis is \n",
    "different, either greater or lesser). The alternative hypothesis in a two-sided test contains a \n",
    "\"not equal to\" sign (≠).\n",
    "Example: A researcher wants to test whether a new medication has a different average \n",
    "recovery rate compared to the existing medication.\n",
    "The main difference between them lies in the directionality of the alternative hypothesis and \n",
    "how the significance level is distributed in the critical regions"
   ]
  },
  {
   "cell_type": "markdown",
   "id": "80213007",
   "metadata": {},
   "source": [
    "Two-tailed test (two-sided): \n",
    "Advantages:\n",
    "Detects effects in both directions: Two-tailed tests can detect effects in both directions, \n",
    "which makes them suitable for situations where the direction of the effect is uncertain or \n",
    "when researchers want to test for any difference between the groups or variables.\n",
    "1.\n",
    "More conservative: Two-tailed tests are more conservative because the significance level \n",
    "(α) is split between both tails of the distribution. This reduces the risk of Type I errors in \n",
    "cases where the direction of the effect is uncertain."
   ]
  },
  {
   "cell_type": "markdown",
   "id": "38675a10",
   "metadata": {},
   "source": [
    "Disadvantages:\n",
    "Less powerful: Two-tailed tests are generally less powerful than one-tailed tests because \n",
    "the significance level (α) is divided between both tails of the distribution. This means the \n",
    "test requires a larger effect size to reject the null hypothesis, which could lead to a higher \n",
    "risk of Type II errors (failing to reject the null hypothesis when it is false).\n",
    "1.\n",
    "Not appropriate for directional hypotheses: Two-tailed tests are not ideal for cases where \n",
    "the research question or hypothesis is directional, as they test for differences in both \n",
    "directions, which may not be of interest or relevance."
   ]
  },
  {
   "cell_type": "markdown",
   "id": "996d8fa6",
   "metadata": {},
   "source": [
    "Where can be Hypothesis Testing Applied?"
   ]
  },
  {
   "cell_type": "markdown",
   "id": "b0cd024d",
   "metadata": {},
   "source": [
    "Testing the effectiveness of interventions or treatments: Hypothesis testing can be used to \n",
    "determine whether a new drug, therapy, or educational intervention has a significant effect \n",
    "compared to a control group or an existing treatment."
   ]
  },
  {
   "cell_type": "markdown",
   "id": "78b4af21",
   "metadata": {},
   "source": [
    "Comparing means or proportions: Hypothesis testing can be used to compare means or \n",
    "proportions between two or more groups to determine if there's a significant difference. \n",
    "This can be applied to compare average customer satisfaction scores, conversion rates, or \n",
    "employee performance across different groups."
   ]
  },
  {
   "cell_type": "markdown",
   "id": "1986a3ef",
   "metadata": {},
   "source": [
    "Analysing relationships between variables: Hypothesis testing can be used to evaluate the \n",
    "association between variables, such as the correlation between age and income or the \n",
    "relationship between advertising spend and sales"
   ]
  },
  {
   "cell_type": "markdown",
   "id": "8a477392",
   "metadata": {},
   "source": [
    "Evaluating the goodness of fit: Hypothesis testing can help assess if a particular theoretical \n",
    "distribution (e.g., normal, binomial, or Poisson) is a good fit for the observed data."
   ]
  },
  {
   "cell_type": "markdown",
   "id": "dd01cf92",
   "metadata": {},
   "source": [
    "Testing the independence of categorical variables: Hypothesis testing can be used to \n",
    "determine if two categorical variables are independent or if there's a significant association \n",
    "between them. For example, it can be used to test if there's a relationship between the \n",
    "type of product and the likelihood of it being returned by a customer."
   ]
  },
  {
   "cell_type": "markdown",
   "id": "77346215",
   "metadata": {},
   "source": [
    "A/B testing: In marketing, product development, and website design, hypothesis testing is \n",
    "often used to compare the performance of two different versions (A and B) to determine \n",
    "which one is more effective in terms of conversion rates, user engagement, or other \n",
    "metrics"
   ]
  },
  {
   "cell_type": "markdown",
   "id": "304fe13a",
   "metadata": {},
   "source": [
    "Hypothesis Testing ML Applications"
   ]
  },
  {
   "cell_type": "markdown",
   "id": "23fb63d0",
   "metadata": {},
   "source": [
    "Model comparison: Hypothesis testing can be used to compare the performance of \n",
    "different machine learning models or algorithms on a given dataset. For example, you can \n",
    "use a paired t-test to compare the accuracy or error rate of two models on multiple cross\u0002validation folds to determine if"
   ]
  },
  {
   "cell_type": "markdown",
   "id": "4fc573a4",
   "metadata": {},
   "source": [
    "Feature selection: Hypothesis testing can help identify which features are significantly \n",
    "related to the target variable or contribute meaningfully to the model's performance. For \n",
    "example, you can use a t-test, chi-square test, or ANOVA to test the relationship between \n",
    "individual features and the target variable. Features with significant relationships can be \n",
    "selected for building the model, while non-significant features may be excluded."
   ]
  },
  {
   "cell_type": "markdown",
   "id": "d13c0162",
   "metadata": {},
   "source": [
    "Hyperparameter tuning: Hypothesis testing can be used to evaluate the performance of a \n",
    "model trained with different hyperparameter settings. By comparing the performance of \n",
    "models with different hyperparameters, you can determine if one set of hyperparameters \n",
    "leads to significantly better performance"
   ]
  },
  {
   "cell_type": "markdown",
   "id": "7f6b056f",
   "metadata": {},
   "source": [
    "Assessing model assumptions: In some cases, machine learning models rely on certain \n",
    "statistical assumptions, such as linearity or normality of residuals in linear regression. \n",
    "Hypothesis testing can help assess whether these assumptions are met, allowing you to \n",
    "determine if the model is appropriate for the data."
   ]
  },
  {
   "cell_type": "markdown",
   "id": "8287e95d",
   "metadata": {},
   "source": [
    "### P-Value\n",
    "\n",
    "In simple words p-value is a measure of the strength of the evidence against the Null \n",
    "Hypothesis that is provided by our sample data"
   ]
  },
  {
   "cell_type": "markdown",
   "id": "44aea2eb",
   "metadata": {},
   "source": [
    "###### Interpreting p-value\n",
    "\n",
    "1. Very small p-values (e.g., p < 0.01) indicate strong evidence against the null hypothesis, suggesting that the observed effect or difference is unlikely to have occurred by chance alone.\n",
    "\n",
    "2. Small p-values (e.g., 0.01 ≤ p < 0.05) indicate moderate evidence against the null hypothesis, suggesting that the observed effect or difference is less likely to have occurred by chance alone.\n",
    "\n",
    "3. Large p-values (e.g., 0.05 ≤ p < 0.1) indicate weak evidence against the null hypothesis, suggesting that the observed effect or difference might have occurred by chance alone, but there is still some level of uncertainty.\n",
    "\n",
    "4. Very large p-values (e.g., p ≥ 0.1) indicate weak or no evidence against the null hypothesis, suggesting that the observed effect or difference is likely to have occurred by chance alone."
   ]
  },
  {
   "cell_type": "markdown",
   "id": "994c781f",
   "metadata": {},
   "source": [
    "Suppose a company is evaluating the impact of a new training program on the productivity of its employees. The \n",
    "company has data on the average productivity of its employees before implementing the training program. The \n",
    "average productivity was 50 units per day. After implementing the training program, the company measures the \n",
    "productivity of a random sample of 30 employees. The sample has an average productivity of 53 units per day and \n",
    "the pop std is 4. The company wants to know if the new training program has significantly increased productivity."
   ]
  },
  {
   "cell_type": "code",
   "execution_count": 21,
   "id": "244ffc63",
   "metadata": {},
   "outputs": [],
   "source": [
    "# 3.28\n",
    "# p -value- 0.00052"
   ]
  },
  {
   "cell_type": "markdown",
   "id": "27987123",
   "metadata": {},
   "source": [
    "Suppose a snack food company claims that their Lays wafer packets contain an average weight of 50 grams per \n",
    "packet. To verify this claim, a consumer watchdog organization decides to test a random sample of Lays wafer \n",
    "packets. The organization wants to determine whether the actual average weight differs significantly from the \n",
    "claimed 50 grams. The organization collects a random sample of 40 Lays wafer packets and measures their \n",
    "weights. They find that the sample has an average weight of 49 grams, with a pop standard deviation of 5 \n",
    "grams. "
   ]
  },
  {
   "cell_type": "code",
   "execution_count": 22,
   "id": "29fc2091",
   "metadata": {},
   "outputs": [],
   "source": [
    "# z=1.5811388300841895\n",
    "# p-0.05705"
   ]
  },
  {
   "cell_type": "markdown",
   "id": "6d4f313e",
   "metadata": {},
   "source": [
    "T-distribution test:\n",
    "\n",
    "A t-test is a statistical test used in hypothesis testing to compare the means of two samples or \n",
    "to compare a sample mean to a known population mean. \n",
    "The t-test is based on the t\u0002distribution, which is used when the population standard deviation is unknown and the \n",
    "sample size is small.\n"
   ]
  },
  {
   "cell_type": "markdown",
   "id": "0998d5de",
   "metadata": {},
   "source": [
    "There are three main types of t-tests:\n",
    "    \n",
    "One-sample t-test: The one-sample t-test is used to compare the mean of a single sample to a \n",
    "known population mean. The null hypothesis states that there is no significant difference \n",
    "between the sample mean and the population mean, while the alternative hypothesis states \n",
    "that there is a significant difference.\n",
    "\n",
    "Independent two-sample t-test: The independent two-sample t-test is used to compare the \n",
    "means of two independent samples. The null hypothesis states that there is no significant \n",
    "difference between the means of the two samples, while the alternative hypothesis states that \n",
    "there is a significant difference.\n",
    "\n",
    "\n",
    "Paired t-test (dependent two-sample t-test): The paired t-test is used to compare the means of \n",
    "two samples that are dependent or paired, such as pre-test and post-test scores for the same \n",
    "group of subjects or measurements taken on the same subjects under two different \n",
    "conditions. The null hypothesis states that there is no significant difference between the \n",
    "means of the paired differences, while the alternative hypothesis states that there is a significant difference."
   ]
  },
  {
   "cell_type": "markdown",
   "id": "adf43126",
   "metadata": {},
   "source": [
    "##### Single Sample t-test\n",
    "A one-sample t-test checks whether a sample mean differs from the population mean.\n",
    "\n",
    "Assumptions for a single sample t-test\n",
    "\n",
    "1. Normality - Population from which the sample is drawn is normally distributed\n",
    "2. Independence - The observations in the sample must be independent, which means that the value of one observation should not influence the value of another observation.\n",
    "3. Random Sampling - The sample must be a random and representative subset of the population.\n",
    "\n",
    "4. Unknown population std - The population std is not known.\n",
    "\n",
    "Suppose a manufacturer claims that the average weight of their new chocolate bars is 50 \n",
    "grams, we highly doubt that and want to check this so we drew out a sample of 25 chocolate \n",
    "bars and measured their weight, the sample mean came out to be 49.7 grams and the sample \n",
    "std deviation was 1.2 grams. Consider the significance level to be 0.05"
   ]
  },
  {
   "cell_type": "code",
   "execution_count": 32,
   "id": "66268af0",
   "metadata": {
    "scrolled": true
   },
   "outputs": [
    {
     "data": {
      "text/plain": [
       "-1.2499999999999882"
      ]
     },
     "execution_count": 32,
     "metadata": {},
     "output_type": "execute_result"
    }
   ],
   "source": [
    "x_bar=49.7\n",
    "pop_mean=50\n",
    "s=1.2\n",
    "size=25\n",
    "df=size-1\n",
    "alpha=0.05\n",
    "t=(x_bar-pop_mean)/(s/pow(25,1/2))\n",
    "t"
   ]
  },
  {
   "cell_type": "code",
   "execution_count": 33,
   "id": "c5575c9e",
   "metadata": {},
   "outputs": [
    {
     "name": "stdout",
     "output_type": "stream",
     "text": [
      "0.11167573908281227\n",
      "there no strong avidance against null hypothesis it does not mean the null hypothesis is correct\n"
     ]
    }
   ],
   "source": [
    "from scipy.stats import t as td\n",
    "p=td.cdf(t,df)\n",
    "print(p)\n",
    "if p>alpha/2:\n",
    "    print('there no strong avidance against null hypothesis it does not mean the null hypothesis is correct')"
   ]
  },
  {
   "cell_type": "markdown",
   "id": "09c02f46",
   "metadata": {},
   "source": [
    "##### Independent 2 sample t-test\n",
    "\n",
    "An independent two-sample t-test, also known as an unpaired t-test, is a statistical method \n",
    "used to compare the means of two independent groups to determine if there is a significant \n",
    "difference between them.\n",
    "\n",
    "Assumptions for the test:\n",
    "\n",
    "1. Independence of observations: The two samples must be independent, meaning there is no relationship between the observations in one group and the observations in the other group. The subjects in the two groups should be selected randomly and independently.\n",
    "\n",
    "2. Normality: The data in each of the two groups should be approximately normally distributed. The t-test is considered robust to mild violations of normality, especially when the sample sizes are large (typically n ≥ 30) and the sample sizes of the two groups are similar. If the data is highly skewed or has substantial outliers, consider using a non\u0002parametric test, such as the Mann-Whitney U test.\n",
    "\n",
    "3. Equal variances (Homoscedasticity): The variances of the two populations should be approximately equal. This assumption can be checked using F-test for equality of variances. If this assumption is not met, you can use Welch's t-test, which does not require equal variances.\n",
    "4. Random sampling: The data should be collected using a random sampling method from the respective populations. This ensures that the sample is representative of the population and reduces the risk of selection bias.\n",
    "\n",
    "Suppose a website owner claims that there is no difference in the average time spent on their \n",
    "website between desktop and mobile users. To test this claim, we collect data from 30 \n",
    "desktop users and 30 mobile users regarding the time spent on the website in minutes. The \n",
    "sample statistics are as follows:\n",
    "\n",
    "desktop users = [12, 15, 18, 16, 20, 17, 14, 22, 19, 21, 23, 18, 25, 17, 16, 24, 20, 19, 22, 18, 15, \n",
    "14, 23, 16, 12, 21, 19, 17, 20, 14]\n",
    "\n",
    "mobile_users = [10, 12, 14, 13, 16, 15, 11, 17, 14, 16, 18, 14, 20, 15, 14, 19, 16, 15, 17, 14, 12, \n",
    "11, 18, 15, 10, 16, 15, 13, 16, 11]\n",
    "\n",
    "Desktop users:\n",
    "\n",
    "○ Sample size (n1): 30\n",
    "\n",
    "○ Sample mean (mean1): 18.5 minutes\n",
    "\n",
    "○ Sample standard deviation (std_dev1): 3.5 minutes\n",
    "\n",
    "Mobile users:\n",
    "\n",
    "○ Sample size (n2): 30\n",
    "\n",
    "○ Sample mean (mean2): 14.3 minutes\n",
    "\n",
    "○ Sample standard deviation (std_dev2): 2.7 minutes\n",
    "\n",
    "We will use a significance level (α) of 0.05 for the hypothesis test"
   ]
  },
  {
   "cell_type": "code",
   "execution_count": 38,
   "id": "87322b4a",
   "metadata": {},
   "outputs": [],
   "source": [
    "desktop_users = [12, 15, 18, 16, 20, 17, 14, 22, 19, 21, 23, 18, 25, 17, 16, 24, 20, 19, 22, 18, 15, 14, 23, 16, 12, 21, 19, 17, 20, 14]\n",
    "mobile_users = [10, 12, 14, 13, 16, 15, 11, 17, 14, 16, 18, 14, 20, 15, 14, 19, 16, 15, 17, 14, 12, 11, 18, 15, 10, 16, 15, 13, 16, 11]"
   ]
  },
  {
   "cell_type": "code",
   "execution_count": 39,
   "id": "ec41395c",
   "metadata": {
    "scrolled": true
   },
   "outputs": [
    {
     "name": "stdout",
     "output_type": "stream",
     "text": [
      "ShapiroResult(statistic=0.9783114194869995, pvalue=0.7790969014167786)\n",
      "desktop Normal\n",
      "ShapiroResult(statistic=0.9714356064796448, pvalue=0.5791608691215515)\n",
      "Mobile Normal\n"
     ]
    }
   ],
   "source": [
    "from scipy.stats import shapiro\n",
    "# to check normality\n",
    "sh_d=shapiro(desktop_users)\n",
    "print(sh_d)\n",
    "p=sh_d[1]\n",
    "if p>0.05:\n",
    "    print('desktop Normal')\n",
    "sh_m=shapiro(mobile_users)\n",
    "print(sh_m)\n",
    "p=sh_m[1]\n",
    "if p>0.05:\n",
    "    print('Mobile Normal')"
   ]
  },
  {
   "cell_type": "code",
   "execution_count": 40,
   "id": "2fe531eb",
   "metadata": {},
   "outputs": [
    {
     "name": "stdout",
     "output_type": "stream",
     "text": [
      "LeveneResult(statistic=2.94395488191752, pvalue=0.09153720526741761)\n",
      "equal or similar varience\n"
     ]
    }
   ],
   "source": [
    "from scipy.stats import levene\n",
    "# to check similar or equal varience\n",
    "l_dm=levene(desktop_users,mobile_users)\n",
    "print(l_dm)\n",
    "p=l_dm[1]\n",
    "if p>0.05:\n",
    "    print('equal or similar varience')"
   ]
  },
  {
   "cell_type": "code",
   "execution_count": 41,
   "id": "6cbb4e8d",
   "metadata": {},
   "outputs": [
    {
     "name": "stdout",
     "output_type": "stream",
     "text": [
      "t-statistic: 4.625335930681123\n",
      "p-value: 1.0711405667487628e-05\n",
      "Reject the null hypothesis.\n"
     ]
    }
   ],
   "source": [
    "n1=30\n",
    "mean1=18.5\n",
    "std_dev1=3.5\n",
    "n2=30\n",
    "mean2=14.3\n",
    "std_dev2=2.7\n",
    "alpha=0.05\n",
    "df=n1+n2-2\n",
    "\n",
    "import scipy.stats as stats\n",
    "\n",
    "t_statistic, p_value = stats.ttest_ind(desktop_users, mobile_users)\n",
    "\n",
    "print(\"t-statistic:\", t_statistic)\n",
    "print(\"p-value:\", p_value/2)\n",
    "\n",
    "alpha = 0.05\n",
    "\n",
    "if p_value < alpha:\n",
    "    print(\"Reject the null hypothesis.\")\n",
    "else:\n",
    "    print(\"Fail to reject the null hypothesis.\")"
   ]
  },
  {
   "cell_type": "markdown",
   "id": "0b59f912",
   "metadata": {},
   "source": [
    "#### A paired two-sample t-test\n",
    "\n",
    "it is also known as a dependent or paired-samples t-test, is a statistical \n",
    "test used to compare the means of two related or dependent groups.\n",
    "\n",
    "Common scenarios where a paired two-sample t-test is used include:\n",
    "\n",
    "1. Before-and-after studies: Comparing the performance of a group before and after an intervention or treatment.\n",
    "\n",
    "2. Matched or correlated groups: Comparing the performance of two groups that are matched or correlated in some way, such as siblings or pairs of individuals with similar characteristics.\n",
    "\n",
    "Assumptions\n",
    "\n",
    "\n",
    "1. Paired observations: The two sets of observations must be related or paired in some way, such as before-and-after measurements on the same subjects or observations from matched or correlated groups.\n",
    "\n",
    "2. Normality: The differences between the paired observations should be approximately normally distributed. This assumption can be checked using graphical methods (e.g., histograms, Q-Q plots) or statistical tests for normality (e.g., Shapiro-Wilk test). Note that the t-test is generally robust to moderate violations of this assumption when the sample size is large.\n",
    "3. Independence of pairs: Each pair of observations should be independent of other pairs. In other words, the outcome of one pair should not affect the outcome of another pair. This assumption is generally satisfied by appropriate study design and random sampling.\n",
    "\n",
    "\n",
    "Let's assume that a fitness center is evaluating the effectiveness of a new 8-week weight loss \n",
    "program. They enroll 15 participants in the program and measure their weights before and \n",
    "after the program. The goal is to test whether the new weight loss program leads to a \n",
    "significant reduction in the participants' weight.\n",
    "\n",
    "Before the program=\n",
    "\n",
    "[80, 92, 75, 68, 85, 78, 73, 90, 70, 88, 76, 84, 82, 77, 91]\n",
    "\n",
    "After the program=\n",
    "\n",
    "[78, 93, 81, 67, 88, 76, 74, 91, 69, 88, 77, 81, 80, 79, 88]\n",
    "\n",
    "Significance level (α) = 0.05"
   ]
  },
  {
   "cell_type": "code",
   "execution_count": 53,
   "id": "f247e16b",
   "metadata": {},
   "outputs": [
    {
     "name": "stdout",
     "output_type": "stream",
     "text": [
      "ShapiroResult(statistic=0.9537103176116943, pvalue=0.5846570730209351)\n",
      "Normal\n"
     ]
    }
   ],
   "source": [
    "b=[80, 92, 75, 68, 85, 78, 73, 90, 70, 88, 76, 84, 82, 77, 91]\n",
    "a=[78, 90, 75, 67, 81, 76, 74, 85, 69, 88, 77, 81, 80, 75, 88]\n",
    "alpha=0.05\n",
    "arr_b=np.array(b)\n",
    "arr_a=np.array(a)\n",
    "diff=arr_a-arr_b\n",
    "sh=shapiro(diff)\n",
    "print(sh)\n",
    "p=sh[1]\n",
    "if p>0.05:\n",
    "    print('Normal')\n",
    "else:\n",
    "    print('Not normal')"
   ]
  },
  {
   "cell_type": "code",
   "execution_count": 55,
   "id": "d472a146",
   "metadata": {
    "scrolled": true
   },
   "outputs": [
    {
     "name": "stdout",
     "output_type": "stream",
     "text": [
      "-3.7567144189845534\n",
      "0.0010624944933159384\n",
      "Reject the null hypothesis.\n"
     ]
    }
   ],
   "source": [
    "mean_diff = np.mean(diff)\n",
    "std_diff = np.std(diff, ddof=1)\n",
    "n = len(diff)\n",
    "t_statistic = mean_diff / (std_diff / np.sqrt(n))\n",
    "df = n - 1\n",
    "alpha = 0.05\n",
    "p_value = td.cdf(t_statistic, df)\n",
    "print(t_statistic)\n",
    "print(p_value)\n",
    "if p_value < alpha:\n",
    "    print(\"Reject the null hypothesis.\")\n",
    "else:\n",
    "    print(\"Fail to reject the null hypothesis.\")"
   ]
  },
  {
   "cell_type": "code",
   "execution_count": 56,
   "id": "63c4310d",
   "metadata": {},
   "outputs": [
    {
     "data": {
      "text/plain": [
       "1.7182493859684493"
      ]
     },
     "execution_count": 56,
     "metadata": {},
     "output_type": "execute_result"
    }
   ],
   "source": [
    "std_diff"
   ]
  },
  {
   "cell_type": "markdown",
   "id": "18cfdab6",
   "metadata": {},
   "source": [
    "##### Chi Square Distribution\n",
    "\n",
    "\n",
    "The Chi-Square distribution, also written as χ² distribution, is a continuous \n",
    "probability distribution that is widely used in statistical hypothesis testing, \n",
    "particularly in the context of goodness-of-fit tests and tests for independence in \n",
    "contingency tables. It arises when the sum of the squares of independent \n",
    "standard normal random variables follows this distribution\n",
    "\n",
    "The Chi-Square distribution has a single parameter, the degrees of freedom (df), \n",
    "which influences the shape and spread of the distribution. The degrees of \n",
    "freedom are typically associated with the number of independent variables or \n",
    "constraints in a statistical problem\n",
    "\n",
    "Some key properties of the Chi-Square distribution are:\n",
    "\n",
    "1. It is a continuous distribution, defined for non-negative values.\n",
    "2. It is positively skewed, with the degree of skewness decreasing as the degrees of freedom increase.\n",
    "\n",
    "3. The mean of the Chi-Square distribution is equal to its degrees of freedom, and its variance is equal to twice the degrees of freedom.\n",
    "4. As the degrees of freedom increase, the Chi-Square distribution approaches the normal distribution in shape.\n",
    "\n",
    "The Chi-Square distribution is used in various statistical tests, such as the Chi\u0002Square goodness-of-fit test, which evaluates whether an observed frequency \n",
    "distribution fits an expected theoretical distribution, and the Chi-Square test for \n",
    "independence, which checks the association between categorical variables in a \n",
    "contingency table.\n",
    "\n",
    "The Chi-Square test is a statistical hypothesis test used to determine if there is a significant \n",
    "association between categorical variables or if an observed distribution of categorical data \n",
    "differs from an expected theoretical distribution. It is based on the Chi-Square (χ²) distribution, \n",
    "and it is commonly applied in two main scenarios:\n",
    "\n",
    "1. Chi-Square Goodness-of-Fit Test: This test is used to determine if the observed distribution of a single categorical variable matches an expected theoretical distribution. It is often applied to check if the data follows a specific probability distribution, such as the uniform or binomial distribution. \n",
    "\n",
    "2. Chi-Square Test for Independence (Chi-Square Test for Association): This test is used to determine whether there is a significant association between two categorical variables in a sample. "
   ]
  },
  {
   "cell_type": "code",
   "execution_count": 57,
   "id": "d66c0ab3",
   "metadata": {
    "id": "rqNssve67V6p"
   },
   "outputs": [],
   "source": [
    "import numpy as np\n",
    "import seaborn as sns\n",
    "\n",
    "# Generate a sample of 100 numbers from a standard normal distribution\n",
    "sample1 = np.random.normal(loc=0, scale=1, size=100)\n",
    "sample2 = np.random.normal(loc=0, scale=1, size=100)\n",
    "sample3 = np.random.normal(loc=0, scale=1, size=100)\n",
    "sample4 = np.random.normal(loc=0, scale=1, size=100)\n",
    "sample5 = np.random.normal(loc=0, scale=1, size=100)"
   ]
  },
  {
   "cell_type": "code",
   "execution_count": 58,
   "id": "df519e85",
   "metadata": {
    "colab": {
     "base_uri": "https://localhost:8080/"
    },
    "id": "25VeKzhJLYAP",
    "outputId": "06c84d8f-3719-4bb4-b74b-6dcf65449738"
   },
   "outputs": [
    {
     "data": {
      "text/plain": [
       "array([-8.35465171e-01,  8.35106113e-02, -3.40632750e-01,  1.34315161e+00,\n",
       "       -7.93945734e-01,  2.71423242e-01,  2.13550309e-03,  1.26386697e+00,\n",
       "       -1.39928773e+00,  6.29595049e-01, -8.60921584e-02, -6.91425580e-01,\n",
       "        8.71794370e-01,  1.00338361e+00, -2.20352971e-01,  1.18711009e-01,\n",
       "       -4.55244178e-01,  4.47140662e-01, -1.93361616e+00,  2.71953184e-01,\n",
       "        3.75599988e-01, -6.30585469e-01, -1.09468693e+00, -3.14093806e-01,\n",
       "        5.28640360e-01, -7.25583800e-01, -1.90940597e-02, -4.27921012e-01,\n",
       "        1.12014087e+00, -7.63251210e-01, -3.52983170e-01,  8.24598084e-01,\n",
       "       -2.22122512e-01, -2.78594595e-01,  5.95190378e-02, -7.44352694e-01,\n",
       "        1.05340735e-01,  6.11545605e-02,  1.10247061e+00,  7.09673677e-01,\n",
       "       -1.51371338e+00,  8.82965994e-01, -1.59268806e+00, -1.01295344e+00,\n",
       "        8.38163373e-01,  1.18531676e+00,  6.78124969e-01, -4.68939324e-01,\n",
       "       -9.91029022e-02,  4.27417417e-02,  1.11845928e-01,  1.66190027e+00,\n",
       "       -3.56966552e-01, -2.91754540e-02, -3.17552368e-01, -5.82322133e-01,\n",
       "       -1.32808929e+00,  3.59019104e-01, -1.91036217e-01,  4.02563537e-01,\n",
       "        1.21828638e+00,  6.93196375e-01,  2.53264380e-01,  1.33364257e+00,\n",
       "        1.71867229e+00, -2.77326132e-01, -1.34002493e+00, -7.60369782e-01,\n",
       "        1.48504694e+00,  4.81430203e-01,  1.76044563e+00, -1.41676730e+00,\n",
       "        9.73177346e-02, -1.40976010e+00,  5.49083558e-01,  5.41986375e-01,\n",
       "       -1.51740037e+00,  1.62378884e-01,  7.23007211e-01,  1.17382938e-01,\n",
       "        2.62456627e-01, -6.85897582e-01,  1.62441209e+00, -6.08140834e-01,\n",
       "        1.22703259e+00, -1.42205062e+00, -5.01508244e-01, -1.58629366e+00,\n",
       "        4.72861038e-02, -2.33060124e+00, -6.43068394e-01,  5.43479825e-01,\n",
       "        1.08510403e+00,  8.41025262e-01,  1.82094068e+00,  3.92333590e-01,\n",
       "       -1.15739765e+00,  1.02162568e+00, -9.22338566e-02, -2.09697103e-01])"
      ]
     },
     "execution_count": 58,
     "metadata": {},
     "output_type": "execute_result"
    }
   ],
   "source": [
    "sample1"
   ]
  },
  {
   "cell_type": "code",
   "execution_count": 64,
   "id": "62ae4970",
   "metadata": {
    "colab": {
     "base_uri": "https://localhost:8080/",
     "height": 451
    },
    "id": "nnaPKUNE7aPM",
    "outputId": "20e33108-fb1c-476b-8261-5f7bb5bd45fc"
   },
   "outputs": [
    {
     "data": {
      "text/plain": [
       "<Axes: ylabel='Density'>"
      ]
     },
     "execution_count": 64,
     "metadata": {},
     "output_type": "execute_result"
    },
    {
     "data": {
      "image/png": "[encoded data removed]",
      "text/plain": [
       "<Figure size 640x480 with 1 Axes>"
      ]
     },
     "metadata": {},
     "output_type": "display_data"
    }
   ],
   "source": [
    "x = sample1**2\n",
    "y = sample1**2 + sample2**2\n",
    "z = sample1**2 + sample2**2 + sample3**2\n",
    "u = sample1**2 + sample2**2 + sample3**2 + sample4**2\n",
    "v = sample1**2 + sample2**2 + sample3**2 + sample4**2 + sample5**2\n",
    "\n",
    "sns.kdeplot(x, clip=(x.min(),x.max()))\n",
    "sns.kdeplot(y, clip=(y.min(),y.max()))\n",
    "sns.kdeplot(z, clip=(z.min(),z.max()))\n",
    "sns.kdeplot(u, clip=(u.min(),u.max()))\n",
    "sns.kdeplot(v, clip=(v.min(),v.max()))"
   ]
  },
  {
   "cell_type": "code",
   "execution_count": 20,
   "id": "b69aba1f",
   "metadata": {
    "colab": {
     "base_uri": "https://localhost:8080/"
    },
    "id": "vfxUjWDw7qX_",
    "outputId": "eb752586-14f6-4f78-af23-1f838aaf5712"
   },
   "outputs": [
    {
     "name": "stdout",
     "output_type": "stream",
     "text": [
      "P-value: 0.0883772737603573\n"
     ]
    }
   ],
   "source": [
    "import scipy.stats as stats\n",
    "\n",
    "test_statistic = 9.57  # Chi-Square test statistic from the previous example\n",
    "degrees_of_freedom = 5  # Degrees of freedom from the previous example\n",
    "\n",
    "# Calculate the p-value using the chi2 survival function (sf)\n",
    "p_value = stats.chi2.sf(test_statistic, degrees_of_freedom)\n",
    "\n",
    "print(\"P-value:\", p_value)"
   ]
  },
  {
   "cell_type": "code",
   "execution_count": null,
   "id": "7f4da299",
   "metadata": {},
   "outputs": [],
   "source": []
  },
  {
   "cell_type": "markdown",
   "id": "ada6a27c",
   "metadata": {},
   "source": [
    "#### Goodness of Fit Test"
   ]
  },
  {
   "cell_type": "markdown",
   "id": "2e763bff",
   "metadata": {},
   "source": [
    "The Chi-Square Goodness-of-Fit test is a statistical hypothesis test used to \n",
    "determine if the observed distribution of a single categorical variable \n",
    "matches an expected theoretical distribution. It helps to evaluate \n",
    "whether the data follows a specific probability distribution, such as \n",
    "uniform, binomial, or Poisson distribution, among others. This test is \n",
    "particularly useful when you want to assess if the sample data is \n",
    "consistent with an assumed distribution or if there are significant \n",
    "deviations from the expected pattern."
   ]
  },
  {
   "cell_type": "markdown",
   "id": "1cfa218a",
   "metadata": {},
   "source": [
    "The Chi-Square Goodness-of-Fit test involves the following steps:\n",
    "    \n",
    "• Define the null hypothesis (H0) and the alternative hypothesis (H1):\n",
    "    \n",
    "H0: The observed data follows the expected theoretical \n",
    "distribution.\n",
    "\n",
    "H1: The observed data does not follow the expected theoretical \n",
    "distribution.\n",
    "\n",
    "• Calculate the expected frequencies for each category based on the theoretical distribution and the sample size.\n",
    " \n",
    "\n",
    "• Compute the Chi-Square test statistic (χ²) by comparing the observed and expected frequencies. The test statistic is calculated as:\n",
    "\n",
    "X^2 = (Oi-Ei)^2/Ei\n",
    "\n",
    "• where Oi is the observed frequency in category i, Ei is the expected frequency in category i, and the summation is taken over all categories\n",
    "\n",
    "• Determine the degrees of freedom (df), which is typically the number of categories minus one (df = k - 1), where k is the number of categories.\n",
    "\n",
    "• Calculate the p-value for the test statistic using the Chi-Square distribution with the calculated degrees of freedom.\n",
    "\n",
    "• Compare the test statistic to the critical value or the p-value"
   ]
  },
  {
   "cell_type": "markdown",
   "id": "3e739e62",
   "metadata": {},
   "source": [
    "##### Assumptions\n",
    "\n",
    "1. Independence: The observations in the sample must be independent of each other. This means that the outcome of one observation should not influence the outcome of another observation. \n",
    "\n",
    "2. Categorical data: The variable being analysed must be categorical, not continuous or ordinal. The data should be divided into mutually exclusive and exhaustive categories.\n",
    "\n",
    "3. Expected frequency: Each category should have an expected frequency of at least 5. This guideline helps ensure that the Chi-Square distribution is a reasonable approximation for the distribution of the test statistic. Having small expected frequencies can lead to an inaccurate estimation of the Chi-Square distribution, potentially increasing the likelihood of a Type I error (incorrectly rejecting the null hypothesis) or a Type II error (incorrectly failing to reject the null hypothesis).\n",
    "\n",
    "4. Fixed distribution: The theoretical distribution being compared to the observed data should be specified before the test is conducted. It is essential to avoid choosing a distribution based on the observed data, as doing so can lead to biased results.\n",
    "\n",
    "\n",
    "The Chi-Square Goodness-of-Fit test is a non-parametric test. Non-parametric tests do not assume that the data comes from a specific \n",
    "probability distribution or make any assumptions about population \n",
    "parameters like the mean or standard deviation.\n",
    "In the Chi-Square Goodness-of-Fit test, we compare the observed \n",
    "frequencies of the categorical data to the expected frequencies based on \n",
    "a hypothesized distribution. The test doesn't rely on any assumptions \n",
    "about the underlying distribution's parameters. Instead, it focuses on \n",
    "comparing observed counts to expected counts, making it a non-parametric test.\n"
   ]
  },
  {
   "cell_type": "markdown",
   "id": "56bc0bcd",
   "metadata": {},
   "source": [
    "#### Examples"
   ]
  },
  {
   "cell_type": "markdown",
   "id": "3841b548",
   "metadata": {},
   "source": [
    "Suppose we have a six-sided fair die, and we want to test if the die is indeed fair. We roll the \n",
    "die 60 times and record the number of times each side comes up. We'll use the Chi-Square \n",
    "Goodness-of-Fit test to determine if the observed frequencies are consistent with a fair die \n",
    "(i.e., a uniform distribution of the sides).\n",
    "\n",
    "Observed frequencies:\n",
    "\n",
    "○ Side 1: 12 times\n",
    "\n",
    "○ Side 2: 8 times\n",
    "\n",
    "○ Side 3: 11 times\n",
    "\n",
    "○ Side 4: 9 times\n",
    "\n",
    "○ Side 5: 10 times\n",
    "\n",
    "○ Side 6: 10 times"
   ]
  },
  {
   "cell_type": "code",
   "execution_count": 80,
   "id": "8ef86167",
   "metadata": {},
   "outputs": [
    {
     "name": "stdout",
     "output_type": "stream",
     "text": [
      "\n",
      "Chi-Square Statistic: 1.00\n",
      "P-value: 0.9626\n",
      "can not reject the null hypothesis\n"
     ]
    }
   ],
   "source": [
    "import scipy.stats as stats\n",
    "import pandas as pd\n",
    "import numpy as np\n",
    "from scipy.stats import chisquare\n",
    "from scipy.stats import chi2_contingency\n",
    "class_counts=pd.Series({1:12,2:11,3:8,4:9,5:10,6:10})\n",
    "expected=pd.Series({1:10,2:10,3:10,4:10,5:10,6:10})\n",
    "# Perform the Chi-Square Goodness of Fit test\n",
    "chi2, p_value = chisquare(class_counts, expected)\n",
    "# Print the results\n",
    "print(\"\\nChi-Square Statistic: {:.2f}\".format(chi2))\n",
    "print(\"P-value: {:.4f}\".format(p_value))\n",
    "\n",
    "if p_value>0.05:\n",
    "    print('can not reject the null hypothesis')"
   ]
  },
  {
   "cell_type": "markdown",
   "id": "0fd60223",
   "metadata": {},
   "source": [
    "Suppose a marketing team at a retail company wants to understand the distribution of visits to \n",
    "their website by day of the week. They have a hypothesis that visits are uniformly distributed \n",
    "across all days of the week, meaning they expect an equal number of visits on each day. They \n",
    "collected data on website visits for four weeks and want to test if the observed distribution \n",
    "matches the expected uniform distribution. \n",
    "\n",
    "Observed frequencies (number of website visits per day of the week for four weeks):\n",
    "\n",
    "• Monday: 420\n",
    "\n",
    "• Tuesday: 380\n",
    "\n",
    "• Wednesday: 410\n",
    "\n",
    "• Thursday: 400\n",
    "\n",
    "• Friday: 410\n",
    "\n",
    "• Saturday: 430\n",
    "\n",
    "• Sunday: 390"
   ]
  },
  {
   "cell_type": "code",
   "execution_count": 67,
   "id": "d208fcb9",
   "metadata": {
    "scrolled": true
   },
   "outputs": [
    {
     "name": "stdout",
     "output_type": "stream",
     "text": [
      "\n",
      "Chi-Square Statistic: 4.37\n",
      "P-value: 0.6272\n",
      "can not reject the null hypothesis\n"
     ]
    }
   ],
   "source": [
    "import scipy.stats as stats\n",
    "import pandas as pd\n",
    "import numpy as np\n",
    "from scipy.stats import chisquare\n",
    "from scipy.stats import chi2_contingency\n",
    "class_counts=pd.Series({'Monday':420,'Tuesday':380,'Wednesday':410,\n",
    "                        'Thursday':400,'Friday':410,'Saturday':430,'Sunday':390}\n",
    "                      )\n",
    "expected=pd.Series(pd.Series({'Monday':405.7142857142857,'Tuesday':405.7142857142857,'Wednesday':405.7142857142857,\n",
    "                        'Thursday':405.7142857142857,'Friday':405.7142857142857,'Saturday':405.7142857142857,'Sunday':405.7142857142857}\n",
    "                      ))\n",
    "# Perform the Chi-Square Goodness of Fit test\n",
    "chi2, p_value = chisquare(class_counts, expected)\n",
    "# Print the results\n",
    "print(\"\\nChi-Square Statistic: {:.2f}\".format(chi2))\n",
    "print(\"P-value: {:.4f}\".format(p_value))\n",
    "\n",
    "if p_value>0.05:\n",
    "    print('can not reject the null hypothesis')"
   ]
  },
  {
   "cell_type": "code",
   "execution_count": 6,
   "id": "91948260",
   "metadata": {},
   "outputs": [
    {
     "data": {
      "text/plain": [
       "405.7142857142857"
      ]
     },
     "execution_count": 6,
     "metadata": {},
     "output_type": "execute_result"
    }
   ],
   "source": [
    "class_counts.mean()"
   ]
  },
  {
   "cell_type": "markdown",
   "id": "f74af516",
   "metadata": {},
   "source": [
    "A survey of 800 families in a village with 4 children each revealed the \n",
    "following distribution\n",
    "Is this data consistent with the result that male and female births are \n",
    "equally probable?"
   ]
  },
  {
   "cell_type": "code",
   "execution_count": 78,
   "id": "f16664f6",
   "metadata": {},
   "outputs": [
    {
     "name": "stdout",
     "output_type": "stream",
     "text": [
      "\n",
      "Chi-Square Statistic: 1.71\n",
      "P-value: 0.7883\n",
      "can not reject the null hypothesis\n"
     ]
    }
   ],
   "source": [
    "O_d={'male_4_female_0':44,'male_3_female_1':210,'male_2_female_2':290,\n",
    "     'male_1_female_3':204,'male_0_female_4':52}\n",
    "\n",
    "E_d={'male_4_female_0':50,'male_3_female_1':200,'male_2_female_2':300,\n",
    "      'male_1_female_3':200,'male_0_female_4':50}\n",
    "\n",
    "expected=pd.Series(pd.Series(E_d))\n",
    "class_counts= pd.Series(pd.Series(O_d))\n",
    "# Perform the Chi-Square Goodness of Fit test\n",
    "chi2, p_value = chisquare(class_counts, expected)\n",
    "# Print the results\n",
    "print(\"\\nChi-Square Statistic: {:.2f}\".format(chi2))\n",
    "print(\"P-value: {:.4f}\".format(p_value))\n",
    "\n",
    "if p_value>0.05:\n",
    "    print('can not reject the null hypothesis')"
   ]
  },
  {
   "cell_type": "markdown",
   "id": "c4193f16",
   "metadata": {},
   "source": [
    "The Chi-Square test for independence, also known as the Chi-Square test for association, is a statistical test used to determine whether there is a significant association between two categorical variables in a sample. It helps to identify if the occurrence of one variable is dependent on the occurrence of the other variable, or if they are independent of each other.\n",
    "The test is based on comparing the observed frequencies in a contingency table (a table that \n",
    "displays the frequency distribution of the variables) with the frequencies that would be \n",
    "expected under the assumption of independence between the two variables.\n",
    "\n",
    "\n",
    "Steps\n",
    "\n",
    "1. State the null hypothesis (H0) and alternative hypothesis (H1):\n",
    "\n",
    "○ H0: There is no association between the two categorical variables (they are \n",
    "independent).\n",
    "\n",
    "○ H1: There is an association between the two categorical variables (they are \n",
    "dependent).\n",
    "\n",
    "2. Create a contingency table with the observed frequencies for each combination of the categories of the two variables.\n",
    "\n",
    "3. Calculate the expected frequencies for each cell in the contingency table assuming that the null hypothesis is true (i.e., the variables are independent).\n",
    "\n",
    "4. Compute the Chi-Square test statistic: \n",
    "χ² = Σ [(O_ij - E_ij)² / E_ij] where O_ij is the observed frequency in each cell and E_ij is the expected frequency.\n",
    "\n",
    "5. Determine the degrees of freedom: df = (number of rows - 1) * (number of columns - 1)\n",
    "\n",
    "6. Obtain the critical value or p-value using the Chi-Square distribution table or a statistical software/calculator with the given degrees of freedom and significance level (commonly \n",
    "α = 0.05).\n",
    "7. Compare the test statistic to the critical value or the p-value to the significance level to decide whether to reject or fail to reject the null hypothesis. If the test statistic is greater than the critical value, or if the p-value is less than the significance level, we reject the null hypothesis and conclude that there is a significant association between the two variables.\n",
    "\n",
    "###### Assumptions\n",
    "\n",
    "1. Independence of observations: The observations in the sample should be independent of each other. This means that the occurrence of one observation should not affect the occurrence of another observation. In practice, this usually implies that the data should be collected using a simple random sampling method.\n",
    "\n",
    "2. Categorical variables: Both variables being tested must be categorical, either ordinal or nominal. The Chi-Square test for independence is not appropriate for continuous variables.\n",
    "\n",
    "3. Adequate sample size: The sample size should be large enough to ensure that the expected frequency for each cell in the contingency table is sufficient. A common rule of thumb is that the expected frequency for each cell should be at least 5. If some cells have expected frequencies less than 5, the test may not be valid, and other methods like Fisher's exact test may be more appropriate.\n",
    "\n",
    "4. Fixed marginal totals: The marginal totals (the row and column sums of the contingency table) should be fixed before the data is collected.This is because the Chi-Square test for independence assesses the association between the two variables under the assumption that the marginal totals are fixed and not influenced by the relationship between the variables.\n",
    "\n"
   ]
  },
  {
   "cell_type": "code",
   "execution_count": 83,
   "id": "5e561488",
   "metadata": {
    "colab": {
     "base_uri": "https://localhost:8080/",
     "height": 285
    },
    "id": "ps2xlDkUmNIR",
    "outputId": "9c33bd8f-945b-4022-8e18-1a3b3227d95b"
   },
   "outputs": [
    {
     "data": {
      "text/html": [
       "<div>\n",
       "<style scoped>\n",
       "    .dataframe tbody tr th:only-of-type {\n",
       "        vertical-align: middle;\n",
       "    }\n",
       "\n",
       "    .dataframe tbody tr th {\n",
       "        vertical-align: top;\n",
       "    }\n",
       "\n",
       "    .dataframe thead th {\n",
       "        text-align: right;\n",
       "    }\n",
       "</style>\n",
       "<table border=\"1\" class=\"dataframe\">\n",
       "  <thead>\n",
       "    <tr style=\"text-align: right;\">\n",
       "      <th></th>\n",
       "      <th>PassengerId</th>\n",
       "      <th>Survived</th>\n",
       "      <th>Pclass</th>\n",
       "      <th>Name</th>\n",
       "      <th>Sex</th>\n",
       "      <th>Age</th>\n",
       "      <th>SibSp</th>\n",
       "      <th>Parch</th>\n",
       "      <th>Ticket</th>\n",
       "      <th>Fare</th>\n",
       "      <th>Cabin</th>\n",
       "      <th>Embarked</th>\n",
       "    </tr>\n",
       "  </thead>\n",
       "  <tbody>\n",
       "    <tr>\n",
       "      <th>0</th>\n",
       "      <td>1</td>\n",
       "      <td>0</td>\n",
       "      <td>3</td>\n",
       "      <td>Braund, Mr. Owen Harris</td>\n",
       "      <td>male</td>\n",
       "      <td>22.0</td>\n",
       "      <td>1</td>\n",
       "      <td>0</td>\n",
       "      <td>A/5 21171</td>\n",
       "      <td>7.2500</td>\n",
       "      <td>NaN</td>\n",
       "      <td>S</td>\n",
       "    </tr>\n",
       "    <tr>\n",
       "      <th>1</th>\n",
       "      <td>2</td>\n",
       "      <td>1</td>\n",
       "      <td>1</td>\n",
       "      <td>Cumings, Mrs. John Bradley (Florence Briggs Th...</td>\n",
       "      <td>female</td>\n",
       "      <td>38.0</td>\n",
       "      <td>1</td>\n",
       "      <td>0</td>\n",
       "      <td>PC 17599</td>\n",
       "      <td>71.2833</td>\n",
       "      <td>C85</td>\n",
       "      <td>C</td>\n",
       "    </tr>\n",
       "    <tr>\n",
       "      <th>2</th>\n",
       "      <td>3</td>\n",
       "      <td>1</td>\n",
       "      <td>3</td>\n",
       "      <td>Heikkinen, Miss. Laina</td>\n",
       "      <td>female</td>\n",
       "      <td>26.0</td>\n",
       "      <td>0</td>\n",
       "      <td>0</td>\n",
       "      <td>STON/O2. 3101282</td>\n",
       "      <td>7.9250</td>\n",
       "      <td>NaN</td>\n",
       "      <td>S</td>\n",
       "    </tr>\n",
       "    <tr>\n",
       "      <th>3</th>\n",
       "      <td>4</td>\n",
       "      <td>1</td>\n",
       "      <td>1</td>\n",
       "      <td>Futrelle, Mrs. Jacques Heath (Lily May Peel)</td>\n",
       "      <td>female</td>\n",
       "      <td>35.0</td>\n",
       "      <td>1</td>\n",
       "      <td>0</td>\n",
       "      <td>113803</td>\n",
       "      <td>53.1000</td>\n",
       "      <td>C123</td>\n",
       "      <td>S</td>\n",
       "    </tr>\n",
       "    <tr>\n",
       "      <th>4</th>\n",
       "      <td>5</td>\n",
       "      <td>0</td>\n",
       "      <td>3</td>\n",
       "      <td>Allen, Mr. William Henry</td>\n",
       "      <td>male</td>\n",
       "      <td>35.0</td>\n",
       "      <td>0</td>\n",
       "      <td>0</td>\n",
       "      <td>373450</td>\n",
       "      <td>8.0500</td>\n",
       "      <td>NaN</td>\n",
       "      <td>S</td>\n",
       "    </tr>\n",
       "  </tbody>\n",
       "</table>\n",
       "</div>"
      ],
      "text/plain": [
       "   PassengerId  Survived  Pclass  \\\n",
       "0            1         0       3   \n",
       "1            2         1       1   \n",
       "2            3         1       3   \n",
       "3            4         1       1   \n",
       "4            5         0       3   \n",
       "\n",
       "                                                Name     Sex   Age  SibSp  \\\n",
       "0                            Braund, Mr. Owen Harris    male  22.0      1   \n",
       "1  Cumings, Mrs. John Bradley (Florence Briggs Th...  female  38.0      1   \n",
       "2                             Heikkinen, Miss. Laina  female  26.0      0   \n",
       "3       Futrelle, Mrs. Jacques Heath (Lily May Peel)  female  35.0      1   \n",
       "4                           Allen, Mr. William Henry    male  35.0      0   \n",
       "\n",
       "   Parch            Ticket     Fare Cabin Embarked  \n",
       "0      0         A/5 21171   7.2500   NaN        S  \n",
       "1      0          PC 17599  71.2833   C85        C  \n",
       "2      0  STON/O2. 3101282   7.9250   NaN        S  \n",
       "3      0            113803  53.1000  C123        S  \n",
       "4      0            373450   8.0500   NaN        S  "
      ]
     },
     "execution_count": 83,
     "metadata": {},
     "output_type": "execute_result"
    }
   ],
   "source": [
    "# We will use the Chi-Square test for independence to see if the survival rate of passengers is independent of the passenger class.\n",
    "import pandas as pd\n",
    "import numpy as np\n",
    "from scipy.stats import chi2_contingency\n",
    "\n",
    "# Load the Titanic dataset\n",
    "data = pd.read_csv('titanic_train.csv')\n",
    "\n",
    "data.head()"
   ]
  },
  {
   "cell_type": "code",
   "execution_count": 98,
   "id": "c78fec39",
   "metadata": {
    "colab": {
     "base_uri": "https://localhost:8080/",
     "height": 143
    },
    "id": "MQcQHN9fui0k",
    "outputId": "ff07277d-d0ef-444c-a8a9-baaf78438d21",
    "scrolled": true
   },
   "outputs": [
    {
     "data": {
      "text/html": [
       "<div>\n",
       "<style scoped>\n",
       "    .dataframe tbody tr th:only-of-type {\n",
       "        vertical-align: middle;\n",
       "    }\n",
       "\n",
       "    .dataframe tbody tr th {\n",
       "        vertical-align: top;\n",
       "    }\n",
       "\n",
       "    .dataframe thead th {\n",
       "        text-align: right;\n",
       "    }\n",
       "</style>\n",
       "<table border=\"1\" class=\"dataframe\">\n",
       "  <thead>\n",
       "    <tr style=\"text-align: right;\">\n",
       "      <th>Pclass</th>\n",
       "      <th>1</th>\n",
       "      <th>2</th>\n",
       "      <th>3</th>\n",
       "      <th>All</th>\n",
       "    </tr>\n",
       "    <tr>\n",
       "      <th>Survived</th>\n",
       "      <th></th>\n",
       "      <th></th>\n",
       "      <th></th>\n",
       "      <th></th>\n",
       "    </tr>\n",
       "  </thead>\n",
       "  <tbody>\n",
       "    <tr>\n",
       "      <th>0</th>\n",
       "      <td>80</td>\n",
       "      <td>97</td>\n",
       "      <td>372</td>\n",
       "      <td>549</td>\n",
       "    </tr>\n",
       "    <tr>\n",
       "      <th>1</th>\n",
       "      <td>136</td>\n",
       "      <td>87</td>\n",
       "      <td>119</td>\n",
       "      <td>342</td>\n",
       "    </tr>\n",
       "    <tr>\n",
       "      <th>All</th>\n",
       "      <td>216</td>\n",
       "      <td>184</td>\n",
       "      <td>491</td>\n",
       "      <td>891</td>\n",
       "    </tr>\n",
       "  </tbody>\n",
       "</table>\n",
       "</div>"
      ],
      "text/plain": [
       "Pclass      1    2    3  All\n",
       "Survived                    \n",
       "0          80   97  372  549\n",
       "1         136   87  119  342\n",
       "All       216  184  491  891"
      ]
     },
     "execution_count": 98,
     "metadata": {},
     "output_type": "execute_result"
    }
   ],
   "source": [
    "ct = pd.crosstab(data['Survived'], data['Pclass'],margins=True)\n",
    "ct"
   ]
  },
  {
   "cell_type": "code",
   "execution_count": 103,
   "id": "c7af8902",
   "metadata": {},
   "outputs": [
    {
     "name": "stdout",
     "output_type": "stream",
     "text": [
      "[[133.0909090909091, 113.37373737373737, 302.5353535353535], [82.9090909090909, 70.62626262626263, 188.46464646464648]]\n"
     ]
    },
    {
     "data": {
      "text/plain": [
       "102.88898875696056"
      ]
     },
     "execution_count": 103,
     "metadata": {},
     "output_type": "execute_result"
    }
   ],
   "source": [
    "x=0\n",
    "el=[]\n",
    "for i in range(2):\n",
    "    l=[]\n",
    "    for j in range(3):\n",
    "        e=(ct.iloc[i,-1]*ct.iloc[-1,j])/ct.iloc[-1,-1]\n",
    "        x+=(ct.iloc[i,j]-e)**2/e\n",
    "        l.append(e)\n",
    "    el.append(l)\n",
    "print(el)\n",
    "x"
   ]
  },
  {
   "cell_type": "code",
   "execution_count": 101,
   "id": "8fe93907",
   "metadata": {},
   "outputs": [
    {
     "data": {
      "text/html": [
       "<div>\n",
       "<style scoped>\n",
       "    .dataframe tbody tr th:only-of-type {\n",
       "        vertical-align: middle;\n",
       "    }\n",
       "\n",
       "    .dataframe tbody tr th {\n",
       "        vertical-align: top;\n",
       "    }\n",
       "\n",
       "    .dataframe thead th {\n",
       "        text-align: right;\n",
       "    }\n",
       "</style>\n",
       "<table border=\"1\" class=\"dataframe\">\n",
       "  <thead>\n",
       "    <tr style=\"text-align: right;\">\n",
       "      <th>Pclass</th>\n",
       "      <th>1</th>\n",
       "      <th>2</th>\n",
       "      <th>3</th>\n",
       "    </tr>\n",
       "    <tr>\n",
       "      <th>Survived</th>\n",
       "      <th></th>\n",
       "      <th></th>\n",
       "      <th></th>\n",
       "    </tr>\n",
       "  </thead>\n",
       "  <tbody>\n",
       "    <tr>\n",
       "      <th>0</th>\n",
       "      <td>80</td>\n",
       "      <td>97</td>\n",
       "      <td>372</td>\n",
       "    </tr>\n",
       "    <tr>\n",
       "      <th>1</th>\n",
       "      <td>136</td>\n",
       "      <td>87</td>\n",
       "      <td>119</td>\n",
       "    </tr>\n",
       "  </tbody>\n",
       "</table>\n",
       "</div>"
      ],
      "text/plain": [
       "Pclass      1   2    3\n",
       "Survived              \n",
       "0          80  97  372\n",
       "1         136  87  119"
      ]
     },
     "execution_count": 101,
     "metadata": {},
     "output_type": "execute_result"
    }
   ],
   "source": [
    "contingency_table = pd.crosstab(data['Survived'], data['Pclass'],margins=False)\n",
    "contingency_table"
   ]
  },
  {
   "cell_type": "code",
   "execution_count": 102,
   "id": "57734806",
   "metadata": {
    "colab": {
     "base_uri": "https://localhost:8080/"
    },
    "id": "dipmDlWouqZb",
    "outputId": "330297f5-842a-45db-bbe9-f1bed0c316f4"
   },
   "outputs": [
    {
     "name": "stdout",
     "output_type": "stream",
     "text": [
      "\n",
      "Chi-Square Statistic: 102.89\n",
      "P-value: 0.0000\n",
      "Degrees of Freedom: 2\n",
      "Expected Frequencies: \n",
      "[[133.09090909 113.37373737 302.53535354]\n",
      " [ 82.90909091  70.62626263 188.46464646]]\n"
     ]
    }
   ],
   "source": [
    "# Perform the Chi-Square test\n",
    "chi2, p_value, dof, expected = chi2_contingency(contingency_table)\n",
    "# Print the results\n",
    "print(\"\\nChi-Square Statistic: {:.2f}\".format(chi2))\n",
    "print(\"P-value: {:.4f}\".format(p_value))\n",
    "print(\"Degrees of Freedom: {}\".format(dof))\n",
    "print(\"Expected Frequencies: \\n{}\".format(expected))"
   ]
  },
  {
   "cell_type": "code",
   "execution_count": 96,
   "id": "931961ea",
   "metadata": {
    "colab": {
     "base_uri": "https://localhost:8080/"
    },
    "id": "22tMnTbuu4jL",
    "outputId": "ec417aed-62ae-4eba-ff30-707fafb8c53e"
   },
   "outputs": [
    {
     "name": "stdout",
     "output_type": "stream",
     "text": [
      "\n",
      "We reject the null hypothesis. There is a significant association between passenger class and survival rate.\n"
     ]
    }
   ],
   "source": [
    "# Interpret the results\n",
    "alpha = 0.05\n",
    "if p_value < alpha:\n",
    "    print(\"\\nWe reject the null hypothesis. There is a significant association between passenger class and survival rate.\")\n",
    "else:\n",
    "    print(\"\\nWe fail to reject the null hypothesis. There is no significant association between passenger class and survival rate.\")"
   ]
  },
  {
   "cell_type": "markdown",
   "id": "f389712e",
   "metadata": {},
   "source": [
    "example:\n",
    "\n",
    "\n",
    "A researcher wants to investigate if there is an association between the level of education \n",
    "(categorical variable) and the preference for a particular type of exercise (categorical variable) \n",
    "among a group of 150 individuals. The researcher collects data and creates the following \n",
    "contingency table\n"
   ]
  },
  {
   "cell_type": "markdown",
   "id": "ab18ec58",
   "metadata": {},
   "source": [
    "<!-- Applications in Machine Learning -->"
   ]
  },
  {
   "cell_type": "markdown",
   "id": "d40ba2b4",
   "metadata": {},
   "source": [
    "##### Applications in Machine Learning\n",
    "\n",
    "1. Feature selection: Chi-Square test can be used as a filter-based feature selection method to rank and select the most relevant categorical features in a dataset. By measuring the association between each categorical feature and the target variable, you can eliminate irrelevant or redundant features, which can help improve the performance and efficiency of machine learning models.\n",
    "\n",
    "2. Evaluation of classification models: For multi-class classification problems, the Chi-Square test can be used to compare the observed and expected class frequencies in the confusion matrix. This can help assess the goodness of fit of the classification model, indicating how well the model's predictions align with the actual class distributions.\n",
    "\n",
    "3. Analysing relationships between categorical features: In exploratory data analysis, the Chi-Square test for independence can be applied to identify relationships between pairs of categorical features. Understanding these relationships can help inform feature engineering and provide insights into the underlying structure of the data.\n",
    "\n",
    "4. Discretization of continuous variables: When converting continuous variables into categorical variables (binning), the Chi-Square test can be used to determine the optimal number of bins or intervals that best represent the relationship between the continuous variable and the target variable.\n",
    "\n",
    "5. Variable selection in decision trees: Some decision tree algorithms, such as the CHAID (Chi-squared Automatic Interaction Detection) algorithm, use the Chi-Square test to determine the most significant splitting variables at each node in the tree. This helps construct more effective and interpretable decision trees."
   ]
  },
  {
   "cell_type": "code",
   "execution_count": null,
   "id": "4fd66ffa",
   "metadata": {},
   "outputs": [],
   "source": [
    "# ANOVA"
   ]
  }
 ],
 "metadata": {
  "kernelspec": {
   "display_name": "Python 3 (ipykernel)",
   "language": "python",
   "name": "python3"
  },
  "language_info": {
   "codemirror_mode": {
    "name": "ipython",
    "version": 3
   },
   "file_extension": ".py",
   "mimetype": "text/x-python",
   "name": "python",
   "nbconvert_exporter": "python",
   "pygments_lexer": "ipython3",
   "version": "3.12.7"
  }
 },
 "nbformat": 4,
 "nbformat_minor": 5
}
